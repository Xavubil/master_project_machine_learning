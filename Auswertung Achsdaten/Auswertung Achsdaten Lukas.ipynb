{
 "cells": [
  {
   "cell_type": "code",
   "execution_count": null,
   "metadata": {},
   "outputs": [],
   "source": [
    "import os\n",
    "import matplotlib.pyplot as plt\n",
    "import matplotlib.dates as mdates\n",
    "import pandas as pd\n",
    "import numpy as np\n",
    "import datetime\n",
    "import statistics\n",
    "import scipy.integrate as sp"
   ]
  },
  {
   "cell_type": "code",
   "execution_count": null,
   "metadata": {},
   "outputs": [],
   "source": [
    "filenames = []\n",
    "directory = \"D:/Digital Lab/Lukas Auswertungen/Versuchsreihe_1/\"\n",
    "root_list = []\n",
    "csv_list = []\n",
    "for root,dirs,files in os.walk(directory):\n",
    "    for file in files:\n",
    "        if file.endswith(\".csv\"):\n",
    "            root_list.append(root)\n",
    "            csv_list.append(file)"
   ]
  },
  {
   "cell_type": "code",
   "execution_count": null,
   "metadata": {},
   "outputs": [],
   "source": [
    "def plot_machine_data(column_list, converted_dates, versuch, leistung, power, filepath):\n",
    "    for name, index in enumerate(column_list):\n",
    "        fig, ax = plt.subplots()\n",
    "        ax.plot_date(converted_dates, leistung[name], fmt='-', linewidth=0.15, markersize=0.05, \n",
    "                     color='black', label='Daten')\n",
    "        ax.plot_date(converted_dates, [max(versuch[index]) for x in range(len(converted_dates))], \n",
    "                      color='red', fmt='-', linewidth=0.3, label='Max')\n",
    "        ax.plot_date(converted_dates, [min(versuch[index]) for x in range(len(converted_dates))], \n",
    "                      color='yellow', fmt='-', linewidth=0.3, label='Min')\n",
    "        ax.plot_date(converted_dates, [statistics.mean(versuch[index]) for x in range(len(converted_dates))], \n",
    "                      color='green', fmt='-', linewidth=0.3, label='Mean')\n",
    "        plt.title('Achsleistung ' + str(index) +' - Energieverbrauch: ' + str(round(sum(power[name]), 3)) + ' Ws', fontsize=12)\n",
    "        box = ax.get_position()\n",
    "        ax.set_position([box.x0, box.y0, box.width * 0.8, box.height])\n",
    "        ax.legend(fancybox=True, loc='upper left' ,bbox_to_anchor=(1, 0.5))\n",
    "        ax.xaxis.set_major_formatter(mdates.DateFormatter(\"%H:%M\"))\n",
    "        plt.ylabel(str(index) + ' [W]')\n",
    "        plt.xlabel('Zeit')\n",
    "        plt.savefig(filepath + ' ' + index + '.png', dpi=700)\n",
    "        plt.close()\n",
    "        #plt.savefig('./VERSUCH_01_UNBESCHICHTET/pythonplot_' + index + '.png', dpi=700)\n",
    "        #plt.show()"
   ]
  },
  {
   "cell_type": "code",
   "execution_count": null,
   "metadata": {},
   "outputs": [],
   "source": [
    "def evaluate_csv_monoblock(filepath):\n",
    "    versuch = pd.read_csv(filepath, ';')\n",
    "    columns = ['Timestamp', 'X1', 'Y1', 'SPI1']\n",
    "    versuch = versuch[columns]\n",
    "    # delete any row with 0's in SPI\n",
    "    versuch = versuch[(versuch[['SPI1']] != 0).all(axis=1)]\n",
    "    \n",
    "    # remove median > 3 for all columns\n",
    "    for key, value in versuch.items():\n",
    "        if versuch[key].dtypes == 'float64':\n",
    "            versuch.drop(versuch[value > (3 * statistics.mean(versuch[key]))].index, inplace=True)\n",
    "\n",
    "    versuch.reset_index(inplace=True)\n",
    "    # print(versuch.head())\n",
    "    \n",
    "    time_format = '%Y-%m-%dT%H:%M:%S,%f'\n",
    "    power = []\n",
    "    delta = []\n",
    "    integral = []\n",
    "    column_list = []\n",
    "    leistung = []\n",
    "    for key, value in versuch.iteritems():\n",
    "        if key == 'Timestamp':\n",
    "            for number, item in enumerate(value):\n",
    "                if number < len(value)-1:\n",
    "                    time_diff = datetime.datetime.strptime(value[number+1], time_format) - datetime.datetime.strptime(value[number], time_format)\n",
    "                    delta.append(time_diff.total_seconds())\n",
    "                else:\n",
    "                    time_diff = datetime.datetime.strptime(value[number], time_format) - datetime.datetime.strptime(value[number-1], time_format)\n",
    "                    delta.append(time_diff.total_seconds())\n",
    "\n",
    "\n",
    "        if versuch[key].dtypes == 'float64':\n",
    "            column_list.append(key)\n",
    "            leistung.append(value)\n",
    "            integral.append(abs(sp.cumtrapz(delta, value)))\n",
    "            power.append(value * delta)\n",
    "            #versuch.drop(versuch[value <= 0].index, inplace=True)\n",
    "            \n",
    "    date_list = []\n",
    "    for item in versuch.Timestamp:\n",
    "        date_list.append(datetime.datetime.strptime(item, time_format))\n",
    "\n",
    "    converted_dates = matplotlib.dates.date2num(date_list)    \n",
    "    plot_machine_data(column_list, converted_dates, versuch, leistung, power, filepath)"
   ]
  },
  {
   "cell_type": "code",
   "execution_count": null,
   "metadata": {},
   "outputs": [],
   "source": [
    "filenames = []\n",
    "for index, name in enumerate(root_list):\n",
    "    csv_list[index] = csv_list[index].replace('._', '')\n",
    "    path = str(root_list[index])+'/'+str(csv_list[index])\n",
    "    filenames.append(path)\n",
    "    filenames = (list(dict.fromkeys(filenames)))\n",
    "    #print(filenames, index)\n",
    "    #evaluate_csv_monoblock(filenames)\n",
    "    \n",
    "for length, path in enumerate(filenames):\n",
    "    print(path)\n",
    "    evaluate_csv_monoblock(path)\n",
    "    \n",
    "#[print(filenames[x]) for x in range(len(filenames))]"
   ]
  }
 ],
 "metadata": {
  "kernelspec": {
   "display_name": "Python 3",
   "language": "python",
   "name": "python3"
  },
  "language_info": {
   "codemirror_mode": {
    "name": "ipython",
    "version": 3
   },
   "file_extension": ".py",
   "mimetype": "text/x-python",
   "name": "python",
   "nbconvert_exporter": "python",
   "pygments_lexer": "ipython3",
   "version": "3.7.4"
  }
 },
 "nbformat": 4,
 "nbformat_minor": 2
}
