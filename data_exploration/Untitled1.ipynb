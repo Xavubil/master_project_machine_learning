{
 "cells": [
  {
   "cell_type": "markdown",
   "metadata": {},
   "source": [
    "# Quick tests"
   ]
  },
  {
   "cell_type": "code",
   "execution_count": 1,
   "metadata": {},
   "outputs": [],
   "source": [
    "import pandas as pd\n",
    "import mongodb_connection\n",
    "from pymongo import MongoClient"
   ]
  },
  {
   "cell_type": "code",
   "execution_count": 3,
   "metadata": {},
   "outputs": [
    {
     "name": "stdout",
     "output_type": "stream",
     "text": [
      "121944\n"
     ]
    }
   ],
   "source": [
    "client = MongoClient(mongodb_connection.connectionstring)\n",
    "db = client.DMG_CELOS_MOBILE_V3_CA\n",
    "collection = db[\"values_ncprogram\"]\n",
    "\n",
    "print(collection.count_documents({'toolNo':'RA_12H7'}))"
   ]
  },
  {
   "cell_type": "code",
   "execution_count": 4,
   "metadata": {},
   "outputs": [
    {
     "name": "stdout",
     "output_type": "stream",
     "text": [
      "2\n"
     ]
    }
   ],
   "source": [
    "query = {\"ValueID\" : {\"$in\" : [\"12430012063.Main_Spindle.Actual_Power\",\"12430012063.Common_Machine_Data.Lubrication_Level_Spindle\"]}}\n",
    "\n",
    "print(df[\"values_actual\"].count_documents(query))"
   ]
  }
 ],
 "metadata": {
  "kernelspec": {
   "display_name": "Python 3",
   "language": "python",
   "name": "python3"
  },
  "language_info": {
   "codemirror_mode": {
    "name": "ipython",
    "version": 3
   },
   "file_extension": ".py",
   "mimetype": "text/x-python",
   "name": "python",
   "nbconvert_exporter": "python",
   "pygments_lexer": "ipython3",
   "version": "3.6.0"
  }
 },
 "nbformat": 4,
 "nbformat_minor": 4
}
