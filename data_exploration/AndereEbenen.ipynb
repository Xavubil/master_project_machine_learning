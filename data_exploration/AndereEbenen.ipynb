{
 "cells": [
  {
   "cell_type": "markdown",
   "metadata": {},
   "source": [
    "# Laden der restlichen Reibdaten\n",
    "zunächst werden alle Daten aus values_ncprogram geladen, während die Reibe aktiv war"
   ]
  },
  {
   "cell_type": "code",
   "execution_count": 8,
   "metadata": {},
   "outputs": [],
   "source": [
    "import importbib\n",
    "import mongodb_connection\n",
    "import pandas as pd\n",
    "from datetime import datetime, timedelta\n",
    "from pymongo import MongoClient\n",
    "import pymongo\n",
    "import matplotlib.pyplot as plt"
   ]
  },
  {
   "cell_type": "code",
   "execution_count": null,
   "metadata": {},
   "outputs": [
    {
     "name": "stdout",
     "output_type": "stream",
     "text": [
      "0, 1000, 2000, 3000, 4000, 5000, 6000, 7000, 8000, 9000, 10000, 11000, 12000, 13000, 14000, 15000, 16000, 17000, 18000, 19000, 20000, 21000, 22000, 23000, 24000, 25000, 26000, 27000, 28000, 29000, 30000, 31000, 32000, 33000, 34000, 35000, 36000, 37000, 38000, 39000, 40000, 41000, 42000, 43000, 44000, 45000, 46000, 47000, 48000, 49000, 50000, 51000, 52000, 53000, 54000, 55000, 56000, 57000, 58000, 59000, 60000, 61000, 62000, "
     ]
    }
   ],
   "source": [
    "client = MongoClient(mongodb_connection.connectionstring)\n",
    "db = client.DMG_CELOS_MOBILE_V3_CA\n",
    "collection = db[\"values_ncprogram\"]\n",
    "cursor = collection.find({\"toolNo\":\"RA_12H7\"}).sort([(\"timeStamp\",pymongo.ASCENDING)]).limit(192334-92308).batch_size(1000)\n",
    "dfNewestLoaded = pd.DataFrame(columns=['_id','ValueID','value','timeStamp','progName','toolNo'])\n",
    "i = 0\n",
    "for item in cursor:\n",
    "    dfNewestLoaded.loc[i] = [item['_id'],item['ValueID'],item['value_number'],item['timeStamp'], item['progName'],item['toolNo']]\n",
    "    if i%1000 == 0:\n",
    "        print(i,end=', ')\n",
    "    i=i+1\n",
    "print(df.shape)\n",
    "df.head()"
   ]
  },
  {
   "cell_type": "code",
   "execution_count": 3,
   "metadata": {},
   "outputs": [
    {
     "name": "stdout",
     "output_type": "stream",
     "text": [
      "0, 1000, 2000, 3000, 4000, 5000, 6000, 7000, 8000, 9000, 10000, 11000, 12000, 13000, 14000, 15000, 16000, 17000, 18000, 19000, 20000, 21000, 22000, 23000, 24000, 25000, 26000, 27000, 28000, 29000, 30000, 31000, 32000, 33000, 34000, 35000, 36000, 37000, 38000, 39000, 40000, 41000, 42000, 43000, 44000, 45000, 46000, 47000, 48000, 49000, 50000, 51000, 52000, 53000, 54000, 55000, 56000, 57000, 58000, 59000, 60000, 61000, 62000, 63000, 64000, 65000, 66000, 67000, 68000, 69000, 70000, 71000, 72000, 73000, 74000, 75000, 76000, 77000, 78000, 79000, 80000, 81000, 82000, 83000, 84000, 85000, 86000, 87000, 88000, 89000, 90000, 91000, 92000, (92308, 6)\n"
     ]
    },
    {
     "data": {
      "text/html": [
       "<div>\n",
       "<style scoped>\n",
       "    .dataframe tbody tr th:only-of-type {\n",
       "        vertical-align: middle;\n",
       "    }\n",
       "\n",
       "    .dataframe tbody tr th {\n",
       "        vertical-align: top;\n",
       "    }\n",
       "\n",
       "    .dataframe thead th {\n",
       "        text-align: right;\n",
       "    }\n",
       "</style>\n",
       "<table border=\"1\" class=\"dataframe\">\n",
       "  <thead>\n",
       "    <tr style=\"text-align: right;\">\n",
       "      <th></th>\n",
       "      <th>_id</th>\n",
       "      <th>ValueID</th>\n",
       "      <th>value</th>\n",
       "      <th>timeStamp</th>\n",
       "      <th>progName</th>\n",
       "      <th>toolNo</th>\n",
       "    </tr>\n",
       "  </thead>\n",
       "  <tbody>\n",
       "    <tr>\n",
       "      <th>0</th>\n",
       "      <td>5dd4ef4d8e15b312f811fd42</td>\n",
       "      <td>12430012063.Channel1.Feed_Axis</td>\n",
       "      <td>80.000004</td>\n",
       "      <td>2019-11-20 07:47:36.557</td>\n",
       "      <td>WZG_MESSEN_L.MPF</td>\n",
       "      <td>RA_12H7</td>\n",
       "    </tr>\n",
       "    <tr>\n",
       "      <th>1</th>\n",
       "      <td>5dd4ef4d8e15b312f811fd43</td>\n",
       "      <td>12430012063.Channel1.Feed_Override</td>\n",
       "      <td>0.200000</td>\n",
       "      <td>2019-11-20 07:47:36.558</td>\n",
       "      <td>WZG_MESSEN_L.MPF</td>\n",
       "      <td>RA_12H7</td>\n",
       "    </tr>\n",
       "    <tr>\n",
       "      <th>2</th>\n",
       "      <td>5dd4ef4d8e15b312f811fd46</td>\n",
       "      <td>12430012063.Channel1.Program_Feed</td>\n",
       "      <td>80.000004</td>\n",
       "      <td>2019-11-20 07:47:36.559</td>\n",
       "      <td>WZG_MESSEN_L.MPF</td>\n",
       "      <td>RA_12H7</td>\n",
       "    </tr>\n",
       "    <tr>\n",
       "      <th>3</th>\n",
       "      <td>5dd4ef4e8e15b312f811fd4c</td>\n",
       "      <td>12430012063.Channel1.Feed_Axis</td>\n",
       "      <td>581.360015</td>\n",
       "      <td>2019-11-20 07:47:37.031</td>\n",
       "      <td>WZG_MESSEN_L.MPF</td>\n",
       "      <td>RA_12H7</td>\n",
       "    </tr>\n",
       "    <tr>\n",
       "      <th>4</th>\n",
       "      <td>5dd4ef4e8e15b312f811fd4d</td>\n",
       "      <td>12430012063.Channel1.Feed_Override</td>\n",
       "      <td>4.000000</td>\n",
       "      <td>2019-11-20 07:47:37.032</td>\n",
       "      <td>WZG_MESSEN_L.MPF</td>\n",
       "      <td>RA_12H7</td>\n",
       "    </tr>\n",
       "  </tbody>\n",
       "</table>\n",
       "</div>"
      ],
      "text/plain": [
       "                        _id                             ValueID       value  \\\n",
       "0  5dd4ef4d8e15b312f811fd42      12430012063.Channel1.Feed_Axis   80.000004   \n",
       "1  5dd4ef4d8e15b312f811fd43  12430012063.Channel1.Feed_Override    0.200000   \n",
       "2  5dd4ef4d8e15b312f811fd46   12430012063.Channel1.Program_Feed   80.000004   \n",
       "3  5dd4ef4e8e15b312f811fd4c      12430012063.Channel1.Feed_Axis  581.360015   \n",
       "4  5dd4ef4e8e15b312f811fd4d  12430012063.Channel1.Feed_Override    4.000000   \n",
       "\n",
       "                timeStamp          progName   toolNo  \n",
       "0 2019-11-20 07:47:36.557  WZG_MESSEN_L.MPF  RA_12H7  \n",
       "1 2019-11-20 07:47:36.558  WZG_MESSEN_L.MPF  RA_12H7  \n",
       "2 2019-11-20 07:47:36.559  WZG_MESSEN_L.MPF  RA_12H7  \n",
       "3 2019-11-20 07:47:37.031  WZG_MESSEN_L.MPF  RA_12H7  \n",
       "4 2019-11-20 07:47:37.032  WZG_MESSEN_L.MPF  RA_12H7  "
      ]
     },
     "execution_count": 3,
     "metadata": {},
     "output_type": "execute_result"
    }
   ],
   "source": [
    "# ACHTUNG: mongodb-download! Nur ausführen, wenn anders nicht möglich. Ansonsten einfach nächste Zelle ausführen, die die exportierte csv-Datei einließt\n",
    "client = MongoClient(mongodb_connection.connectionstring)\n",
    "db = client.DMG_CELOS_MOBILE_V3_CA\n",
    "collection = db[\"values_ncprogram\"]\n",
    "cursor = collection.find({\n",
    "    'toolNo' : 'RA_12H7'\n",
    "}).batch_size(10000)\n",
    "df = pd.DataFrame(columns=['_id','ValueID','value','timeStamp','progName','toolNo'])\n",
    "i = 0\n",
    "for item in cursor:\n",
    "    df.loc[i] = [item['_id'],item['ValueID'],item['value_number'],item['timeStamp'], item['progName'],item['toolNo']]\n",
    "    if i%1000 == 0:\n",
    "        print(i,end=', ')\n",
    "    i=i+1\n",
    "print(df.shape)\n",
    "df.head()\n",
    "df.to_csv(\"csv_Files/2019-12-09_NCPROGRAM_RA12H7_COMPLETE.csv\",encoding=\"utf-8\",index=False)"
   ]
  },
  {
   "cell_type": "code",
   "execution_count": 5,
   "metadata": {},
   "outputs": [],
   "source": [
    "df = pd.read_csv(\"csv_Files/2019-12-09_NCPROGRAM_RA12H7_COMPLETE.csv\", encoding=\"utf-8\")"
   ]
  },
  {
   "cell_type": "code",
   "execution_count": 7,
   "metadata": {},
   "outputs": [
    {
     "data": {
      "text/plain": [
       "_id                  object\n",
       "ValueID              object\n",
       "value               float64\n",
       "timeStamp    datetime64[ns]\n",
       "progName             object\n",
       "toolNo               object\n",
       "dtype: object"
      ]
     },
     "execution_count": 7,
     "metadata": {},
     "output_type": "execute_result"
    }
   ],
   "source": [
    "df.timeStamp = pd.to_datetime(df.timeStamp)\n",
    "df.dtypes"
   ]
  },
  {
   "cell_type": "code",
   "execution_count": 26,
   "metadata": {},
   "outputs": [],
   "source": [
    "lstDiff = []\n",
    "for i in range(0,len(dfFirst)):\n",
    "    diffValue = min((dfFirst.iloc[i,:].timeStamp-dfSecond.iloc[i,:].timeStamp).total_seconds(), 100)\n",
    "    lstDiff.append(diffValue)"
   ]
  },
  {
   "cell_type": "code",
   "execution_count": 27,
   "metadata": {},
   "outputs": [
    {
     "data": {
      "image/png": "[encoded data removed]",
      "text/plain": [
       "<Figure size 432x288 with 1 Axes>"
      ]
     },
     "metadata": {
      "needs_background": "light"
     },
     "output_type": "display_data"
    }
   ],
   "source": [
    "plt.plot(lstDiff)\n",
    "plt.show()"
   ]
  },
  {
   "cell_type": "code",
   "execution_count": null,
   "metadata": {},
   "outputs": [],
   "source": []
  }
 ],
 "metadata": {
  "kernelspec": {
   "display_name": "Python 3",
   "language": "python",
   "name": "python3"
  },
  "language_info": {
   "codemirror_mode": {
    "name": "ipython",
    "version": 3
   },
   "file_extension": ".py",
   "mimetype": "text/x-python",
   "name": "python",
   "nbconvert_exporter": "python",
   "pygments_lexer": "ipython3",
   "version": "3.6.0"
  }
 },
 "nbformat": 4,
 "nbformat_minor": 4
}
