{
 "cells": [
  {
   "cell_type": "markdown",
   "metadata": {},
   "source": [
    "# Daten von MongoDB direkt laden\n",
    "Zum Laden der Daten von der MongoDB muss man im HS-VPN sein!\n",
    "intro in MongoDB-Queries: [click me](https://docs.mongodb.com/manual/tutorial/query-documents/)"
   ]
  },
  {
   "cell_type": "code",
   "execution_count": 8,
   "metadata": {},
   "outputs": [],
   "source": [
    "import pandas as pd\n",
    "import matplotlib.pyplot as plt\n",
    "import numpy as np\n",
    "from pymongo import MongoClient\n",
    "import mongodb_connection"
   ]
  },
  {
   "cell_type": "code",
   "execution_count": 11,
   "metadata": {},
   "outputs": [],
   "source": [
    "from datetime import datetime"
   ]
  },
  {
   "cell_type": "code",
   "execution_count": 29,
   "metadata": {},
   "outputs": [
    {
     "name": "stdout",
     "output_type": "stream",
     "text": [
      "(5673, 2)\n"
     ]
    }
   ],
   "source": [
    "client = MongoClient(mongodb_connection.connectionstring)\n",
    "db = client.DMG_CELOS_MOBILE_V3_CA\n",
    "collection = db[\"values\"]\n",
    "# for a first, get documents between 26.11.2019, 9:30 and 26.11.2019, 12:00\n",
    "# only get documents with ValueID = 12430012063.X1_Axis.Actual_Position_MCS\n",
    "vID = \"12430012063.X1_Axis.Actual_Position_MCS\"\n",
    "start = datetime(2019,11,26,9,30)\n",
    "end = datetime(2019,11,26,23,59)\n",
    "cursor = collection.find({\n",
    "    'ValueID' : \"12430012063.X1_Axis.Actual_Position_MCS\",\n",
    "    'timeStamp' : {'$gt':start, '$lt':end} # $gt: greater than, $lt: less than\n",
    "})\n",
    "df = pd.DataFrame(columns=['value','time'])\n",
    "i = 0\n",
    "for item in cursor:\n",
    "    df.loc[i] = [item['value_number']]+[item['timeStamp']]\n",
    "    i+=1\n",
    "print(df.shape)"
   ]
  },
  {
   "cell_type": "code",
   "execution_count": 30,
   "metadata": {},
   "outputs": [
    {
     "data": {
      "text/html": [
       "<div>\n",
       "<style scoped>\n",
       "    .dataframe tbody tr th:only-of-type {\n",
       "        vertical-align: middle;\n",
       "    }\n",
       "\n",
       "    .dataframe tbody tr th {\n",
       "        vertical-align: top;\n",
       "    }\n",
       "\n",
       "    .dataframe thead th {\n",
       "        text-align: right;\n",
       "    }\n",
       "</style>\n",
       "<table border=\"1\" class=\"dataframe\">\n",
       "  <thead>\n",
       "    <tr style=\"text-align: right;\">\n",
       "      <th></th>\n",
       "      <th>value</th>\n",
       "      <th>time</th>\n",
       "    </tr>\n",
       "  </thead>\n",
       "  <tbody>\n",
       "    <tr>\n",
       "      <th>0</th>\n",
       "      <td>351.07</td>\n",
       "      <td>2019-11-26 12:00:02.860</td>\n",
       "    </tr>\n",
       "    <tr>\n",
       "      <th>1</th>\n",
       "      <td>224.81</td>\n",
       "      <td>2019-11-26 12:00:03.001</td>\n",
       "    </tr>\n",
       "    <tr>\n",
       "      <th>2</th>\n",
       "      <td>91.48</td>\n",
       "      <td>2019-11-26 12:00:03.190</td>\n",
       "    </tr>\n",
       "    <tr>\n",
       "      <th>3</th>\n",
       "      <td>2.20</td>\n",
       "      <td>2019-11-26 12:00:03.417</td>\n",
       "    </tr>\n",
       "    <tr>\n",
       "      <th>4</th>\n",
       "      <td>1.53</td>\n",
       "      <td>2019-11-26 12:00:03.590</td>\n",
       "    </tr>\n",
       "  </tbody>\n",
       "</table>\n",
       "</div>"
      ],
      "text/plain": [
       "    value                    time\n",
       "0  351.07 2019-11-26 12:00:02.860\n",
       "1  224.81 2019-11-26 12:00:03.001\n",
       "2   91.48 2019-11-26 12:00:03.190\n",
       "3    2.20 2019-11-26 12:00:03.417\n",
       "4    1.53 2019-11-26 12:00:03.590"
      ]
     },
     "execution_count": 30,
     "metadata": {},
     "output_type": "execute_result"
    }
   ],
   "source": [
    "df.head()"
   ]
  },
  {
   "cell_type": "code",
   "execution_count": 31,
   "metadata": {},
   "outputs": [
    {
     "name": "stderr",
     "output_type": "stream",
     "text": [
      "c:\\program files\\python36\\lib\\site-packages\\pandas\\plotting\\_converter.py:129: FutureWarning: Using an implicitly registered datetime converter for a matplotlib plotting method. The converter was registered by pandas on import. Future versions of pandas will require you to explicitly register matplotlib converters.\n",
      "\n",
      "To register the converters:\n",
      "\t>>> from pandas.plotting import register_matplotlib_converters\n",
      "\t>>> register_matplotlib_converters()\n",
      "  warnings.warn(msg, FutureWarning)\n"
     ]
    },
    {
     "data": {
      "image/png": "[encoded data removed]",
      "text/plain": [
       "<Figure size 432x288 with 1 Axes>"
      ]
     },
     "metadata": {
      "needs_background": "light"
     },
     "output_type": "display_data"
    }
   ],
   "source": [
    "plt.plot(df['time'],df['value'])\n",
    "plt.show()"
   ]
  },
  {
   "cell_type": "code",
   "execution_count": null,
   "metadata": {},
   "outputs": [],
   "source": []
  }
 ],
 "metadata": {
  "kernelspec": {
   "display_name": "Python 3",
   "language": "python",
   "name": "python3"
  },
  "language_info": {
   "codemirror_mode": {
    "name": "ipython",
    "version": 3
   },
   "file_extension": ".py",
   "mimetype": "text/x-python",
   "name": "python",
   "nbconvert_exporter": "python",
   "pygments_lexer": "ipython3",
   "version": "3.6.0"
  }
 },
 "nbformat": 4,
 "nbformat_minor": 4
}
