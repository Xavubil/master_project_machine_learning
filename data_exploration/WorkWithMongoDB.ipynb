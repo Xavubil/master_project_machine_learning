{
 "cells": [
  {
   "cell_type": "markdown",
   "metadata": {},
   "source": [
    "# Daten von MongoDB direkt laden\n",
    "Zum Laden der Daten von der MongoDB muss man im HS-VPN sein!\n",
    "intro in MongoDB-Queries: [click me](https://docs.mongodb.com/manual/tutorial/query-documents/)"
   ]
  },
  {
   "cell_type": "code",
   "execution_count": 1,
   "metadata": {},
   "outputs": [],
   "source": [
    "import pandas as pd\n",
    "import matplotlib.pyplot as plt\n",
    "import numpy as np\n",
    "from pymongo import MongoClient\n",
    "import mongodb_connection\n",
    "from datetime import datetime"
   ]
  },
  {
   "cell_type": "code",
   "execution_count": null,
   "metadata": {},
   "outputs": [],
   "source": [
    "client = MongoClient(mongodb_connection.connectionstring)\n",
    "db = client.DMG_CELOS_MOBILE_V3_CA\n",
    "collection = db[\"values\"]\n",
    "# for a first, get documents between 26.11.2019, 9:30 and 26.11.2019, 23:59\n",
    "# only get documents with ValueID = 12430012063.X1_Axis.Actual_Position_MCS\n",
    "vID = \"12430012063.X1_Axis.Actual_Position_MCS\"\n",
    "tsStart = datetime(2019,11,26,12,15)\n",
    "tsEnd = datetime(2019,11,26,13,10) # durch versuche herausgefunden (plotten der X-Position)\n",
    "cursor = collection.find({\n",
    "    'timeStamp' : {'$gt':tsStart, '$lt':tsEnd} # $gt: greater than, $lt: less than\n",
    "})\n",
    "df = pd.DataFrame(columns=['_id','ValueID','value','timeStamp'])\n",
    "i = 0\n",
    "for item in cursor:\n",
    "    df.loc[i] = [item['_id'],item['ValueID'],item['value_number'],item['timeStamp']]\n",
    "    i+=1\n",
    "print(df.shape)"
   ]
  },
  {
   "cell_type": "code",
   "execution_count": 27,
   "metadata": {},
   "outputs": [
    {
     "name": "stdout",
     "output_type": "stream",
     "text": [
      "_id                  object\n",
      "ValueID              object\n",
      "value               float64\n",
      "timeStamp    datetime64[ns]\n",
      "dtype: object\n",
      "(131168, 4)\n",
      "_id                                   5ddd25148e15b3086c07bed5\n",
      "ValueID      12430012063.Tool_Control_Center.Axial_Force_Co...\n",
      "value                                                        0\n",
      "timeStamp                           2019-11-26 13:15:16.601000\n",
      "Name: 131167, dtype: object\n"
     ]
    }
   ],
   "source": [
    "print(df.dtypes)\n",
    "print(df.shape)\n",
    "print(df.iloc[131167])"
   ]
  },
  {
   "cell_type": "code",
   "execution_count": 37,
   "metadata": {},
   "outputs": [
    {
     "data": {
      "text/html": [
       "<div>\n",
       "<style scoped>\n",
       "    .dataframe tbody tr th:only-of-type {\n",
       "        vertical-align: middle;\n",
       "    }\n",
       "\n",
       "    .dataframe tbody tr th {\n",
       "        vertical-align: top;\n",
       "    }\n",
       "\n",
       "    .dataframe thead th {\n",
       "        text-align: right;\n",
       "    }\n",
       "</style>\n",
       "<table border=\"1\" class=\"dataframe\">\n",
       "  <thead>\n",
       "    <tr style=\"text-align: right;\">\n",
       "      <th></th>\n",
       "      <th>_id</th>\n",
       "      <th>ValueID</th>\n",
       "      <th>value</th>\n",
       "      <th>timeStamp</th>\n",
       "    </tr>\n",
       "  </thead>\n",
       "  <tbody>\n",
       "    <tr>\n",
       "      <th>0</th>\n",
       "      <td>5ddd16f38e15b3086c052889</td>\n",
       "      <td>12430012063.Energy_Savings.Active_Power_X1</td>\n",
       "      <td>24.362</td>\n",
       "      <td>2019-11-26 12:15:00.115</td>\n",
       "    </tr>\n",
       "    <tr>\n",
       "      <th>1</th>\n",
       "      <td>5ddd16f38e15b3086c05288b</td>\n",
       "      <td>12430012063.X1_Axis.Actual_Position_MCS</td>\n",
       "      <td>315.510</td>\n",
       "      <td>2019-11-26 12:15:00.139</td>\n",
       "    </tr>\n",
       "    <tr>\n",
       "      <th>2</th>\n",
       "      <td>5ddd16f38e15b3086c05288c</td>\n",
       "      <td>12430012063.Main_Spindle.MPC_Veff_Total</td>\n",
       "      <td>0.000</td>\n",
       "      <td>2019-11-26 12:15:00.142</td>\n",
       "    </tr>\n",
       "    <tr>\n",
       "      <th>3</th>\n",
       "      <td>5ddd16f38e15b3086c05288d</td>\n",
       "      <td>12430012063.Energy_Savings.Active_Power_Spindle1</td>\n",
       "      <td>38.350</td>\n",
       "      <td>2019-11-26 12:15:00.175</td>\n",
       "    </tr>\n",
       "    <tr>\n",
       "      <th>4</th>\n",
       "      <td>5ddd16f38e15b3086c05288e</td>\n",
       "      <td>12430012063.Main_Spindle.Actual_Power</td>\n",
       "      <td>0.000</td>\n",
       "      <td>2019-11-26 12:15:00.176</td>\n",
       "    </tr>\n",
       "  </tbody>\n",
       "</table>\n",
       "</div>"
      ],
      "text/plain": [
       "                        _id                                           ValueID  \\\n",
       "0  5ddd16f38e15b3086c052889        12430012063.Energy_Savings.Active_Power_X1   \n",
       "1  5ddd16f38e15b3086c05288b           12430012063.X1_Axis.Actual_Position_MCS   \n",
       "2  5ddd16f38e15b3086c05288c           12430012063.Main_Spindle.MPC_Veff_Total   \n",
       "3  5ddd16f38e15b3086c05288d  12430012063.Energy_Savings.Active_Power_Spindle1   \n",
       "4  5ddd16f38e15b3086c05288e             12430012063.Main_Spindle.Actual_Power   \n",
       "\n",
       "     value               timeStamp  \n",
       "0   24.362 2019-11-26 12:15:00.115  \n",
       "1  315.510 2019-11-26 12:15:00.139  \n",
       "2    0.000 2019-11-26 12:15:00.142  \n",
       "3   38.350 2019-11-26 12:15:00.175  \n",
       "4    0.000 2019-11-26 12:15:00.176  "
      ]
     },
     "execution_count": 37,
     "metadata": {},
     "output_type": "execute_result"
    }
   ],
   "source": [
    "df.head()"
   ]
  },
  {
   "cell_type": "code",
   "execution_count": 45,
   "metadata": {},
   "outputs": [
    {
     "data": {
      "image/png": "[encoded data removed]",
      "text/plain": [
       "<Figure size 1200x400 with 1 Axes>"
      ]
     },
     "metadata": {
      "needs_background": "light"
     },
     "output_type": "display_data"
    }
   ],
   "source": [
    "tsStart = datetime(2019,11,26,12,30)\n",
    "tsEnd = datetime(2019,11,26,12,35)\n",
    "plt.figure(figsize=(15, 5), dpi=80)\n",
    "plt.plot(df.loc[lambda l: (l['ValueID']==\"12430012063.X1_Axis.Actual_Position_MCS\") & (tsStart < l['timeStamp'])& (l['timeStamp'] < tsEnd), \"timeStamp\"],df.loc[lambda l: (l['ValueID']==\"12430012063.X1_Axis.Actual_Position_MCS\") & (tsStart < l['timeStamp'])& (l['timeStamp'] < tsEnd), 'value']) #.loc[lambda l: (tsStart < l['timeStamp']) & (l['timeStamp'] < tsEnd),'timeStamp'],df.loc[lambda l: (tsStart < l['timeStamp']) & (l['timeStamp'] < tsEnd),'value'])\n",
    "plt.scatter(df.loc[lambda l: (l['ValueID']==\"12430012063.Z1_Axis.Actual_Position_MCS\") & (tsStart < l['timeStamp'])& (l['timeStamp'] < tsEnd), \"timeStamp\"],df.loc[lambda l: (l['ValueID']==\"12430012063.Z1_Axis.Actual_Position_MCS\") & (tsStart < l['timeStamp'])& (l['timeStamp'] < tsEnd), \"value\"], s=0.5,c='r')                \n",
    "plt.show()"
   ]
  },
  {
   "cell_type": "code",
   "execution_count": 36,
   "metadata": {},
   "outputs": [],
   "source": [
    "#only uncomment for export\n",
    "#df.to_csv(\"2019-11-26_export.csv\", index=False)"
   ]
  }
 ],
 "metadata": {
  "kernelspec": {
   "display_name": "Python 3",
   "language": "python",
   "name": "python3"
  },
  "language_info": {
   "codemirror_mode": {
    "name": "ipython",
    "version": 3
   },
   "file_extension": ".py",
   "mimetype": "text/x-python",
   "name": "python",
   "nbconvert_exporter": "python",
   "pygments_lexer": "ipython3",
   "version": "3.6.0"
  }
 },
 "nbformat": 4,
 "nbformat_minor": 4
}
