{
 "cells": [
  {
   "cell_type": "code",
   "execution_count": 2,
   "metadata": {},
   "outputs": [],
   "source": [
    "import pandas as pd\n",
    "import matplotlib.pyplot as plt\n",
    "import numpy as np\n",
    "from datetime import datetime, timedelta\n",
    "import copy\n",
    "import plotBib\n",
    "import mongodbImportBib\n",
    "import dataProcessingBib\n",
    "import importlib"
   ]
  },
  {
   "cell_type": "code",
   "execution_count": 3,
   "metadata": {},
   "outputs": [
    {
     "name": "stdout",
     "output_type": "stream",
     "text": [
      "Z1-Count: 18063\n",
      "Values: 340734\n",
      "Reib: 27614\n"
     ]
    }
   ],
   "source": [
    "#anz daten für eine ebene\n",
    "dtStart = datetime(2019,11,20,6,0)\n",
    "dtEnd = datetime(2019,11,20,13,0)\n",
    "print(\"Z1-Count: \"+str(mongodbImportBib.countInValues(dtStart,dtEnd,[\"12430012063.Z1_Axis.Actual_Position_MCS\"])))\n",
    "print(\"Values: \"+str(mongodbImportBib.countInValues(dtStart,dtEnd)))\n",
    "print(\"Reib: \"+str(mongodbImportBib.countInNCProgram(dtStart,dtEnd)))"
   ]
  },
  {
   "cell_type": "code",
   "execution_count": 28,
   "metadata": {},
   "outputs": [
    {
     "name": "stdout",
     "output_type": "stream",
     "text": [
      "Z1-Count: 0\n",
      "Values: 0\n",
      "Reib: 0\n"
     ]
    }
   ],
   "source": [
    "#layer 2-4?\n",
    "dtStart = datetime(2019,11,25,0,0)\n",
    "dtEnd = datetime(2019,11,25,18,0)\n",
    "print(\"Z1-Count: \"+str(mongodbImportBib.countInValues(dtStart,dtEnd,[\"12430012063.Z1_Axis.Actual_Position_MCS\"])))\n",
    "print(\"Values: \"+str(mongodbImportBib.countInValues(dtStart,dtEnd)))\n",
    "print(\"Reib: \"+str(mongodbImportBib.countInNCProgram(dtStart,dtEnd)))"
   ]
  },
  {
   "cell_type": "code",
   "execution_count": 29,
   "metadata": {},
   "outputs": [
    {
     "name": "stdout",
     "output_type": "stream",
     "text": [
      "Z1-Count: 11734\n",
      "Values: 189471\n",
      "Reib: 16247\n"
     ]
    }
   ],
   "source": [
    "#layer 5-7?\n",
    "dtStart = datetime(2019,11,26,0,0)\n",
    "dtEnd = datetime(2019,11,26,18,0)\n",
    "print(\"Z1-Count: \"+str(mongodbImportBib.countInValues(dtStart,dtEnd,[\"12430012063.Z1_Axis.Actual_Position_MCS\"])))\n",
    "print(\"Values: \"+str(mongodbImportBib.countInValues(dtStart,dtEnd)))\n",
    "print(\"Reib: \"+str(mongodbImportBib.countInNCProgram(dtStart,dtEnd)))"
   ]
  },
  {
   "cell_type": "code",
   "execution_count": 42,
   "metadata": {},
   "outputs": [
    {
     "name": "stdout",
     "output_type": "stream",
     "text": [
      "Z1-Count: 22309\n",
      "Values: 402110\n",
      "Reib: 48447\n"
     ]
    }
   ],
   "source": [
    "#layer 8-10\n",
    "dtStart = datetime(2019,11,27,7,0)\n",
    "dtEnd = datetime(2019,11,27,12,0)\n",
    "print(\"Z1-Count: \"+str(mongodbImportBib.countInValues(dtStart,dtEnd,[\"12430012063.Z1_Axis.Actual_Position_MCS\"])))\n",
    "print(\"Values: \"+str(mongodbImportBib.countInValues(dtStart,dtEnd)))\n",
    "print(\"Reib: \"+str(mongodbImportBib.countInNCProgram(dtStart,dtEnd)))"
   ]
  },
  {
   "cell_type": "code",
   "execution_count": 36,
   "metadata": {},
   "outputs": [
    {
     "name": "stdout",
     "output_type": "stream",
     "text": [
      "Z1-Count: 8\n",
      "Values: 32441\n",
      "Reib: 0\n"
     ]
    }
   ],
   "source": [
    "#layer ?\n",
    "dtStart = datetime(2019,11,28,6,0)\n",
    "dtEnd = datetime(2019,11,28,10,0)\n",
    "print(\"Z1-Count: \"+str(mongodbImportBib.countInValues(dtStart,dtEnd,[\"12430012063.Z1_Axis.Actual_Position_MCS\"])))\n",
    "print(\"Values: \"+str(mongodbImportBib.countInValues(dtStart,dtEnd)))\n",
    "print(\"Reib: \"+str(mongodbImportBib.countInNCProgram(dtStart,dtEnd)))"
   ]
  },
  {
   "cell_type": "code",
   "execution_count": 45,
   "metadata": {
    "scrolled": true
   },
   "outputs": [
    {
     "name": "stdout",
     "output_type": "stream",
     "text": [
      "Z1-Count: 0\n",
      "Reib: 0\n",
      "Values: 0\n"
     ]
    }
   ],
   "source": [
    "#layer 11 - 12?\n",
    "dtStart = datetime(2019,12,2,0,0)\n",
    "dtEnd = datetime(2019,12,2,23,55)\n",
    "print(\"Z1-Count: \"+str(mongodbImportBib.countInValues(dtStart,dtEnd,[\"12430012063.Z1_Axis.Actual_Position_MCS\"])))\n",
    "print(\"Reib: \"+str(mongodbImportBib.countInNCProgram(dtStart,dtEnd)))\n",
    "print(\"Values: \"+str(mongodbImportBib.countInValues(dtStart,dtEnd)))"
   ]
  },
  {
   "cell_type": "code",
   "execution_count": 46,
   "metadata": {},
   "outputs": [
    {
     "name": "stdout",
     "output_type": "stream",
     "text": [
      "Z1-Count: 0\n",
      "Reib: 0\n",
      "Values: 0\n"
     ]
    }
   ],
   "source": [
    "#layer 13 - 14?\n",
    "dtStart = datetime(2019,12,3,0,0)\n",
    "dtEnd = datetime(2019,12,3,23,55)\n",
    "print(\"Z1-Count: \"+str(mongodbImportBib.countInValues(dtStart,dtEnd,[\"12430012063.Z1_Axis.Actual_Position_MCS\"])))\n",
    "print(\"Reib: \"+str(mongodbImportBib.countInNCProgram(dtStart,dtEnd)))\n",
    "print(\"Values: \"+str(mongodbImportBib.countInValues(dtStart,dtEnd)))"
   ]
  },
  {
   "cell_type": "code",
   "execution_count": 47,
   "metadata": {},
   "outputs": [
    {
     "name": "stdout",
     "output_type": "stream",
     "text": [
      "Z1-Count: 0\n",
      "Reib: 0\n",
      "Values: 0\n"
     ]
    }
   ],
   "source": [
    "#layer ?\n",
    "dtStart = datetime(2019,12,4,0,0)\n",
    "dtEnd = datetime(2019,12,4,18,0)\n",
    "print(\"Z1-Count: \"+str(mongodbImportBib.countInValues(dtStart,dtEnd,[\"12430012063.Z1_Axis.Actual_Position_MCS\"])))\n",
    "print(\"Reib: \"+str(mongodbImportBib.countInNCProgram(dtStart,dtEnd)))\n",
    "print(\"Values: \"+str(mongodbImportBib.countInValues(dtStart,dtEnd)))"
   ]
  },
  {
   "cell_type": "code",
   "execution_count": 48,
   "metadata": {},
   "outputs": [
    {
     "name": "stdout",
     "output_type": "stream",
     "text": [
      "Z1-Count: 33211\n",
      "Reib: 29636\n",
      "Values: 564431\n"
     ]
    }
   ],
   "source": [
    "#layer 15 - 18?\n",
    "dtStart = datetime(2019,12,9,0,0)\n",
    "dtEnd = datetime(2019,12,9,18,0)\n",
    "print(\"Z1-Count: \"+str(mongodbImportBib.countInValues(dtStart,dtEnd,[\"12430012063.Z1_Axis.Actual_Position_MCS\"])))\n",
    "print(\"Reib: \"+str(mongodbImportBib.countInNCProgram(dtStart,dtEnd)))\n",
    "print(\"Values: \"+str(mongodbImportBib.countInValues(dtStart,dtEnd)))"
   ]
  },
  {
   "cell_type": "code",
   "execution_count": 49,
   "metadata": {},
   "outputs": [
    {
     "name": "stdout",
     "output_type": "stream",
     "text": [
      "Z1-Count: 393\n",
      "Reib: 16096\n",
      "Values: 43596\n"
     ]
    }
   ],
   "source": [
    "#layer 19?\n",
    "dtStart = datetime(2019,12,10,0,0)\n",
    "dtEnd = datetime(2019,12,10,18,0)\n",
    "print(\"Z1-Count: \"+str(mongodbImportBib.countInValues(dtStart,dtEnd,[\"12430012063.Z1_Axis.Actual_Position_MCS\"])))\n",
    "print(\"Reib: \"+str(mongodbImportBib.countInNCProgram(dtStart,dtEnd)))\n",
    "print(\"Values: \"+str(mongodbImportBib.countInValues(dtStart,dtEnd)))"
   ]
  },
  {
   "cell_type": "code",
   "execution_count": 50,
   "metadata": {},
   "outputs": [
    {
     "name": "stdout",
     "output_type": "stream",
     "text": [
      "Z1-Count: 24110\n",
      "Reib: 47583\n",
      "Values: 889564\n"
     ]
    }
   ],
   "source": [
    "#layer 20 - 21?\n",
    "dtStart = datetime(2019,12,11,0,0)\n",
    "dtEnd = datetime(2019,12,11,18,0)\n",
    "print(\"Z1-Count: \"+str(mongodbImportBib.countInValues(dtStart,dtEnd,[\"12430012063.Z1_Axis.Actual_Position_MCS\"])))\n",
    "print(\"Reib: \"+str(mongodbImportBib.countInNCProgram(dtStart,dtEnd)))\n",
    "print(\"Values: \"+str(mongodbImportBib.countInValues(dtStart,dtEnd)))"
   ]
  },
  {
   "cell_type": "code",
   "execution_count": null,
   "metadata": {},
   "outputs": [],
   "source": [
    "#Layer 1: was found\n",
    "\n",
    "#Layer 2: not found:\n",
    "dtStart = datetime(2019,11,25,8,0)\n",
    "dtEnd = datetime(2019,11,25,10,0)\n",
    "print(\"Z1-Count: \"+str(mongodbImportBib.countInValues(dtStart,dtEnd,[\"12430012063.Z1_Axis.Actual_Position_MCS\"])))\n",
    "print(\"Values: \"+str(mongodbImportBib.countInValues(dtStart,dtEnd)))\n",
    "print(\"Reib: \"+str(mongodbImportBib.countInNCProgram(dtStart,dtEnd)))\n",
    "\n",
    "#Layer 3: not found\n",
    "dtStart = datetime(2019,11,25,10,10)\n",
    "dtEnd = datetime(2019,11,25,11,0)\n",
    "print(\"Z1-Count: \"+str(mongodbImportBib.countInValues(dtStart,dtEnd,[\"12430012063.Z1_Axis.Actual_Position_MCS\"])))\n",
    "print(\"Values: \"+str(mongodbImportBib.countInValues(dtStart,dtEnd)))\n",
    "print(\"Reib: \"+str(mongodbImportBib.countInNCProgram(dtStart,dtEnd)))\n",
    "\n",
    "#Layer 4: not found\n",
    "dtStart = datetime(2019,11,25,12,0)\n",
    "dtEnd = datetime(2019,11,25,13,0)\n",
    "print(\"Z1-Count: \"+str(mongodbImportBib.countInValues(dtStart,dtEnd,[\"12430012063.Z1_Axis.Actual_Position_MCS\"])))\n",
    "print(\"Values: \"+str(mongodbImportBib.countInValues(dtStart,dtEnd)))\n",
    "print(\"Reib: \"+str(mongodbImportBib.countInNCProgram(dtStart,dtEnd)))\n",
    "\n",
    "#Layer 5: not found\n",
    "dtStart = datetime(2019,11,26,10,55)\n",
    "dtEnd = datetime(2019,11,26,11,30)\n",
    "print(\"Z1-Count: \"+str(mongodbImportBib.countInValues(dtStart,dtEnd,[\"12430012063.Z1_Axis.Actual_Position_MCS\"])))\n",
    "print(\"Values: \"+str(mongodbImportBib.countInValues(dtStart,dtEnd)))\n",
    "print(\"Reib: \"+str(mongodbImportBib.countInNCProgram(dtStart,dtEnd)))\n",
    "\n",
    "#Layer 6: was found\n",
    "\n",
    "#Layer 7: not found\n",
    "dtStart = datetime(2019,11,26,13,30)\n",
    "dtEnd = datetime(2019,11,26,14,15)\n",
    "print(\"Z1-Count: \"+str(mongodbImportBib.countInValues(dtStart,dtEnd,[\"12430012063.Z1_Axis.Actual_Position_MCS\"])))\n",
    "print(\"Values: \"+str(mongodbImportBib.countInValues(dtStart,dtEnd)))\n",
    "print(\"Reib: \"+str(mongodbImportBib.countInNCProgram(dtStart,dtEnd)))\n",
    "\n",
    "#layer 8: was found\n",
    "\n",
    "#layer 9: was found\n",
    "\n",
    "#layer 10: not found\n",
    "dtStart = datetime(2019,11,27,11,45)\n",
    "dtEnd = datetime(2019,11,27,12,35)\n",
    "print(\"Z1-Count: \"+str(mongodbImportBib.countInValues(dtStart,dtEnd,[\"12430012063.Z1_Axis.Actual_Position_MCS\"])))\n",
    "print(\"Reib: \"+str(mongodbImportBib.countInNCProgram(dtStart,dtEnd)))\n",
    "print(\"Values: \"+str(mongodbImportBib.countInValues(dtStart,dtEnd)))\n",
    "\n",
    "#layer 11: not found\n",
    "dtStart = datetime(2019,12,2,10,10)\n",
    "dtEnd = datetime(2019,12,2,10,50)\n",
    "print(\"Z1-Count: \"+str(mongodbImportBib.countInValues(dtStart,dtEnd,[\"12430012063.Z1_Axis.Actual_Position_MCS\"])))\n",
    "print(\"Reib: \"+str(mongodbImportBib.countInNCProgram(dtStart,dtEnd)))\n",
    "print(\"Values: \"+str(mongodbImportBib.countInValues(dtStart,dtEnd)))\n",
    "\n",
    "#layer 12: keine Achsleistung, daher keine timestamps, um die ebene zu suchen!\n",
    "\n",
    "#layer 13: not found\n",
    "dtStart = datetime(2019,12,3,11,0)\n",
    "dtEnd = datetime(2019,12,3,11,45)\n",
    "print(\"Z1-Count: \"+str(mongodbImportBib.countInValues(dtStart,dtEnd,[\"12430012063.Z1_Axis.Actual_Position_MCS\"])))\n",
    "print(\"Reib: \"+str(mongodbImportBib.countInNCProgram(dtStart,dtEnd)))\n",
    "print(\"Values: \"+str(mongodbImportBib.countInValues(dtStart,dtEnd)))\n",
    "\n",
    "#layer 14: not found\n",
    "dtStart = datetime(2019,12,3,12,25)\n",
    "dtEnd = datetime(2019,12,3,13,5)\n",
    "print(\"Z1-Count: \"+str(mongodbImportBib.countInValues(dtStart,dtEnd,[\"12430012063.Z1_Axis.Actual_Position_MCS\"])))\n",
    "print(\"Reib: \"+str(mongodbImportBib.countInNCProgram(dtStart,dtEnd)))\n",
    "print(\"Values: \"+str(mongodbImportBib.countInValues(dtStart,dtEnd)))\n",
    "\n",
    "#layer 15: was found\n",
    "\n",
    "#layer 16: was found\n",
    "\n",
    "#layer 17: not found\n",
    "dtStart = datetime(2019,12,9,10,55)\n",
    "dtEnd = datetime(2019,12,9,11,30)\n",
    "print(\"Z1-Count: \"+str(mongodbImportBib.countInValues(dtStart,dtEnd,[\"12430012063.Z1_Axis.Actual_Position_MCS\"])))\n",
    "print(\"Reib: \"+str(mongodbImportBib.countInNCProgram(dtStart,dtEnd)))\n",
    "print(\"Values: \"+str(mongodbImportBib.countInValues(dtStart,dtEnd)))\n",
    "\n",
    "#layer 18: keine Achsleistung, daher keine timestamps, um die ebene zu suchen\n",
    "\n",
    "#layer 19: keine Achsleistung, daher keine timestamps, um die ebene zu suchen\n",
    "\n",
    "#layer 20: not found\n",
    "dtStart = datetime(2019,12,11,10,15)\n",
    "dtEnd = datetime(2019,12,11,11,45)\n",
    "print(\"Z1-Count: \"+str(mongodbImportBib.countInValues(dtStart,dtEnd,[\"12430012063.Z1_Axis.Actual_Position_MCS\"])))\n",
    "print(\"Reib: \"+str(mongodbImportBib.countInNCProgram(dtStart,dtEnd)))\n",
    "print(\"Values: \"+str(mongodbImportBib.countInValues(dtStart,dtEnd)))\n",
    "\n",
    "#layer 21: not found\n",
    "dtStart = datetime(2019,12,11,10,45)\n",
    "dtEnd = datetime(2019,12,11,11,45)\n",
    "print(\"Z1-Count: \"+str(mongodbImportBib.countInValues(dtStart,dtEnd,[\"12430012063.Z1_Axis.Actual_Position_MCS\"])))\n",
    "print(\"Reib: \"+str(mongodbImportBib.countInNCProgram(dtStart,dtEnd)))\n",
    "print(\"Values: \"+str(mongodbImportBib.countInValues(dtStart,dtEnd)))\n",
    "\n",
    "#layer 22: was found\n",
    "\n",
    "#layer 23: was found\n",
    "\n",
    "#layer 24: was found\n",
    "\n",
    "#layer 25: was found\n",
    "\n",
    "#layer 26: not found\n",
    "dtStart = datetime(2019,12,16,10,45)\n",
    "dtEnd = datetime(2019,12,16,11,15)\n",
    "print(\"Z1-Count: \"+str(mongodbImportBib.countInValues(dtStart,dtEnd,[\"12430012063.Z1_Axis.Actual_Position_MCS\"])))\n",
    "print(\"Reib: \"+str(mongodbImportBib.countInNCProgram(dtStart,dtEnd)))\n",
    "print(\"Values: \"+str(mongodbImportBib.countInValues(dtStart,dtEnd)))\n",
    "\n",
    "#layer 27: is now found\n",
    "dtStart = datetime(2019,12,16,7,0)\n",
    "dtEnd = datetime(2019,12,16,12,0)\n",
    "print(\"Z1-Count: \"+str(mongodbImportBib.countInValues(dtStart,dtEnd,[\"12430012063.Z1_Axis.Actual_Position_MCS\"])))\n",
    "print(\"Reib: \"+str(mongodbImportBib.countInNCProgram(dtStart,dtEnd)))\n",
    "print(\"Values: \"+str(mongodbImportBib.countInValues(dtStart,dtEnd)))\n",
    "\n"
   ]
  }
 ],
 "metadata": {
  "kernelspec": {
   "display_name": "Python 3",
   "language": "python",
   "name": "python3"
  },
  "language_info": {
   "codemirror_mode": {
    "name": "ipython",
    "version": 3
   },
   "file_extension": ".py",
   "mimetype": "text/x-python",
   "name": "python",
   "nbconvert_exporter": "python",
   "pygments_lexer": "ipython3",
   "version": "3.7.5"
  }
 },
 "nbformat": 4,
 "nbformat_minor": 2
}
