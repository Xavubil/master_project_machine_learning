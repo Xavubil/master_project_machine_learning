{
 "cells": [
  {
   "cell_type": "markdown",
   "metadata": {},
   "source": [
    "# values_actual.json"
   ]
  },
  {
   "cell_type": "code",
   "execution_count": 2,
   "metadata": {},
   "outputs": [],
   "source": [
    "import importbib"
   ]
  },
  {
   "cell_type": "code",
   "execution_count": 4,
   "metadata": {},
   "outputs": [
    {
     "data": {
      "text/plain": [
       "0                 12430012063.Main_Spindle.Actual_Power\n",
       "1     12430012063.Common_Machine_Data.Lubrication_Le...\n",
       "2                     12430012063.Main_Spindle.MPC_Peak\n",
       "3          12430012063.Main_Spindle.Actual_Position_MCS\n",
       "4                  12430012063.Cooling_Aggregate.Prio_2\n",
       "5                      12430012063.Z1_Axis.Actual_Power\n",
       "6                     12430012063.Hydraulics.Tank_Level\n",
       "7               12430012063.A1_Axis.Actual_Position_MCS\n",
       "8            12430012063.Cooling_Aggregate.Warn_Message\n",
       "9             12430012063.Coolant_Water_Unit.Paper_Tape\n",
       "10    12430012063.Electric_Cabinet_Chiller.Motor_pro...\n",
       "11                 12430012063.X1_Axis.Actual_Feed_Rate\n",
       "12    12430012063.Tool_Control_Center.Axial_Force_Te...\n",
       "13               12430012063.Hydraulics.Temperature_Oil\n",
       "14                 12430012063.A1_Axis.Actual_Feed_Rate\n",
       "15           12430012063.Main_Spindle.Actual_Speed_Rate\n",
       "16                     12430012063.X1_Axis.Actual_Power\n",
       "17    12430012063.Tool_Control_Center.Axial_Force_Co...\n",
       "18    12430012063.Common_Machine_Data.Lubrication_Le...\n",
       "19       12430012063.Tool_Control_Center.Bending_Moment\n",
       "20            12430012063.Coolant_Water_Unit.Tank_Level\n",
       "21              12430012063.Y1_Axis.Actual_Position_MCS\n",
       "22                 12430012063.Cooling_Aggregate.Prio_1\n",
       "23        12430012063.Coolant_Water_Unit.Duplex_Filters\n",
       "24          12430012063.Electric_Cabinet_Chiller.Filter\n",
       "25     12430012063.Electric_Cabinet_Chiller.Temperature\n",
       "26                     12430012063.A1_Axis.Actual_Power\n",
       "27              12430012063.Main_Spindle.MPC_Veff_Total\n",
       "28                 12430012063.Y1_Axis.Actual_Feed_Rate\n",
       "29                 12430012063.C1_Axis.Actual_Feed_Rate\n",
       "30              12430012063.Z1_Axis.Actual_Position_MCS\n",
       "31             12430012063.Hydraulics.Temperature_Motor\n",
       "32                     12430012063.Y1_Axis.Actual_Power\n",
       "33              12430012063.C1_Axis.Actual_Position_MCS\n",
       "34                      12430012063.Pneumatics.Pressure\n",
       "35                        12430012063.Hydraulics.Filter\n",
       "36             12430012063.Tool_Control_Center.Symmetry\n",
       "37    12430012063.Maintenance_Package.Tool_Usage_Mai...\n",
       "38              12430012063.X1_Axis.Actual_Position_MCS\n",
       "39                      12430012063.Hydraulics.Pressure\n",
       "40                     12430012063.C1_Axis.Actual_Power\n",
       "41              12430012063.Y1_Axis.Temperature_Y_Slide\n",
       "42                 12430012063.Z1_Axis.Actual_Feed_Rate\n",
       "43         12430012063.Main_Spindle.Temperature_Spindle\n",
       "44    12430012063.Maintenance_Package.Tool_Changer_M...\n",
       "45    12430012063.Maintenance_Package.Tool_Changer_Main\n",
       "46    12430012063.Maintenance_Package.Tool_Changer_M...\n",
       "47       12430012063.Common_Machine_Data.Program_Status\n",
       "48    12430012063.Tool_Control_Center.Bending_Moment...\n",
       "49       12430012063.Common_Machine_Data.Machine_Status\n",
       "50           12430012063.Energy_Savings.Active_Power_X1\n",
       "51           12430012063.Energy_Savings.Active_Power_Z1\n",
       "52           12430012063.Energy_Savings.Active_Power_Y1\n",
       "53           12430012063.Energy_Savings.Active_Power_C1\n",
       "54           12430012063.Energy_Savings.Active_Power_A1\n",
       "55      12430012063.Energy_Savings.Active_Power_Spindle\n",
       "Name: ValueID, dtype: object"
      ]
     },
     "execution_count": 4,
     "metadata": {},
     "output_type": "execute_result"
    }
   ],
   "source": [
    "df = importbib.importJSONExport(\"2019-11-25_values_actual.json\")\n",
    "df = df[\"ValueID\"]\n",
    "df"
   ]
  },
  {
   "cell_type": "code",
   "execution_count": null,
   "metadata": {},
   "outputs": [],
   "source": []
  }
 ],
 "metadata": {
  "kernelspec": {
   "display_name": "Python 3",
   "language": "python",
   "name": "python3"
  },
  "language_info": {
   "codemirror_mode": {
    "name": "ipython",
    "version": 3
   },
   "file_extension": ".py",
   "mimetype": "text/x-python",
   "name": "python",
   "nbconvert_exporter": "python",
   "pygments_lexer": "ipython3",
   "version": "3.6.0"
  }
 },
 "nbformat": 4,
 "nbformat_minor": 4
}
