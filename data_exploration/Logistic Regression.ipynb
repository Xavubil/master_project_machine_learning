{
 "cells": [
  {
   "cell_type": "code",
   "execution_count": 1,
   "metadata": {},
   "outputs": [],
   "source": [
    "import numpy as np\n",
    "import pandas as pd\n",
    "import seaborn as sns\n",
    "import matplotlib.pyplot as plt\n",
    "from sklearn.metrics import roc_curve, auc #for model evaluation\n",
    "from sklearn.metrics import classification_report #for model evaluation\n",
    "from sklearn.metrics import confusion_matrix #for model evaluation\n",
    "from sklearn.model_selection import train_test_split, cross_val_score\n",
    "from sklearn.preprocessing import LabelEncoder\n",
    "from sklearn import preprocessing\n",
    "from sklearn.metrics import accuracy_score, f1_score, roc_auc_score, precision_score, recall_score, precision_recall_curve, \\\n",
    "average_precision_score\n",
    "from inspect import signature"
   ]
  },
  {
   "cell_type": "code",
   "execution_count": 2,
   "metadata": {},
   "outputs": [],
   "source": [
    "masterprojekt_daten = pd.read_csv(\"./Messergebnisse_merged.csv\")\n",
    "masterprojekt_daten = masterprojekt_daten.drop(columns=['Unnamed: 0', 'timeStamp'], axis=0)\n",
    "#print(masterprojekt_daten.columns, masterprojekt_daten.dtypes)\n",
    "\n",
    "#print(masterprojekt_daten.dtypes)"
   ]
  },
  {
   "cell_type": "code",
   "execution_count": 3,
   "metadata": {},
   "outputs": [
    {
     "data": {
      "text/html": [
       "<div>\n",
       "<style scoped>\n",
       "    .dataframe tbody tr th:only-of-type {\n",
       "        vertical-align: middle;\n",
       "    }\n",
       "\n",
       "    .dataframe tbody tr th {\n",
       "        vertical-align: top;\n",
       "    }\n",
       "\n",
       "    .dataframe thead th {\n",
       "        text-align: right;\n",
       "    }\n",
       "</style>\n",
       "<table border=\"1\" class=\"dataframe\">\n",
       "  <thead>\n",
       "    <tr style=\"text-align: right;\">\n",
       "      <th></th>\n",
       "      <th>Energy_Savings.Active_Power_Spindle</th>\n",
       "      <th>Energy_Savings.Active_Power_Z</th>\n",
       "      <th>Main_Spindle.Actual_Position_MCS</th>\n",
       "      <th>Main_Spindle.Actual_Power</th>\n",
       "      <th>Main_Spindle.Actual_Speed_Rate</th>\n",
       "      <th>Main_Spindle.MPC_Peak</th>\n",
       "      <th>Main_Spindle.MPC_Veff_Total</th>\n",
       "      <th>Main_Spindle.Temperature_Spindle</th>\n",
       "      <th>Tool_Control_Center.Axial_Force_Tension</th>\n",
       "      <th>Tool_Control_Center.Bending_Moment</th>\n",
       "      <th>...</th>\n",
       "      <th>Y1_Axis.Temperature_Y_Slide</th>\n",
       "      <th>Z1_Axis.Actual_Feed_Rate</th>\n",
       "      <th>Z1_Axis.Actual_Position_MCS</th>\n",
       "      <th>Z1_Axis.Actual_Power</th>\n",
       "      <th>Energy_Savings.Active_Power_X</th>\n",
       "      <th>Tool_Control_Center.Axial_Force_Compression</th>\n",
       "      <th>X1_Axis.Actual_Feed_Rate</th>\n",
       "      <th>X1_Axis.Actual_Position_MCS</th>\n",
       "      <th>A1_Axis.Actual_Power</th>\n",
       "      <th>Label</th>\n",
       "    </tr>\n",
       "  </thead>\n",
       "  <tbody>\n",
       "    <tr>\n",
       "      <th>0</th>\n",
       "      <td>3.126359</td>\n",
       "      <td>53.527900</td>\n",
       "      <td>179.816218</td>\n",
       "      <td>0.500000</td>\n",
       "      <td>317.379310</td>\n",
       "      <td>1.000000</td>\n",
       "      <td>0.50</td>\n",
       "      <td>28.105000</td>\n",
       "      <td>1.258537</td>\n",
       "      <td>2.500000</td>\n",
       "      <td>...</td>\n",
       "      <td>24.765000</td>\n",
       "      <td>354.875000</td>\n",
       "      <td>-304.447544</td>\n",
       "      <td>13.739130</td>\n",
       "      <td>416.853000</td>\n",
       "      <td>0.052632</td>\n",
       "      <td>1011.666667</td>\n",
       "      <td>367.525</td>\n",
       "      <td>5.5</td>\n",
       "      <td>0</td>\n",
       "    </tr>\n",
       "    <tr>\n",
       "      <th>1</th>\n",
       "      <td>1.763218</td>\n",
       "      <td>-223.576625</td>\n",
       "      <td>184.350446</td>\n",
       "      <td>0.507463</td>\n",
       "      <td>317.500000</td>\n",
       "      <td>0.666667</td>\n",
       "      <td>0.50</td>\n",
       "      <td>28.067143</td>\n",
       "      <td>0.674074</td>\n",
       "      <td>0.850000</td>\n",
       "      <td>...</td>\n",
       "      <td>24.766667</td>\n",
       "      <td>8.800000</td>\n",
       "      <td>-302.581802</td>\n",
       "      <td>13.766667</td>\n",
       "      <td>416.853000</td>\n",
       "      <td>0.052632</td>\n",
       "      <td>1011.666667</td>\n",
       "      <td>367.525</td>\n",
       "      <td>5.5</td>\n",
       "      <td>0</td>\n",
       "    </tr>\n",
       "    <tr>\n",
       "      <th>2</th>\n",
       "      <td>1.398177</td>\n",
       "      <td>382.341625</td>\n",
       "      <td>181.430268</td>\n",
       "      <td>0.500000</td>\n",
       "      <td>317.300000</td>\n",
       "      <td>2.333333</td>\n",
       "      <td>0.50</td>\n",
       "      <td>28.067143</td>\n",
       "      <td>0.047826</td>\n",
       "      <td>0.478261</td>\n",
       "      <td>...</td>\n",
       "      <td>24.800000</td>\n",
       "      <td>-156.000000</td>\n",
       "      <td>-302.535946</td>\n",
       "      <td>12.562500</td>\n",
       "      <td>-60.904000</td>\n",
       "      <td>0.048148</td>\n",
       "      <td>3049.500000</td>\n",
       "      <td>384.030</td>\n",
       "      <td>5.5</td>\n",
       "      <td>0</td>\n",
       "    </tr>\n",
       "    <tr>\n",
       "      <th>3</th>\n",
       "      <td>1.065278</td>\n",
       "      <td>700.204571</td>\n",
       "      <td>177.692973</td>\n",
       "      <td>0.492308</td>\n",
       "      <td>317.128205</td>\n",
       "      <td>1.666667</td>\n",
       "      <td>1.00</td>\n",
       "      <td>28.032857</td>\n",
       "      <td>0.050000</td>\n",
       "      <td>0.500000</td>\n",
       "      <td>...</td>\n",
       "      <td>24.800000</td>\n",
       "      <td>26.000000</td>\n",
       "      <td>-303.418349</td>\n",
       "      <td>17.350000</td>\n",
       "      <td>-111.657000</td>\n",
       "      <td>0.054286</td>\n",
       "      <td>0.000000</td>\n",
       "      <td>397.960</td>\n",
       "      <td>5.5</td>\n",
       "      <td>0</td>\n",
       "    </tr>\n",
       "    <tr>\n",
       "      <th>4</th>\n",
       "      <td>0.225588</td>\n",
       "      <td>-132.687143</td>\n",
       "      <td>175.616696</td>\n",
       "      <td>0.508475</td>\n",
       "      <td>317.062500</td>\n",
       "      <td>1.500000</td>\n",
       "      <td>1.00</td>\n",
       "      <td>28.000000</td>\n",
       "      <td>0.050000</td>\n",
       "      <td>0.529412</td>\n",
       "      <td>...</td>\n",
       "      <td>24.800000</td>\n",
       "      <td>67.909091</td>\n",
       "      <td>-302.540270</td>\n",
       "      <td>16.608696</td>\n",
       "      <td>4.060500</td>\n",
       "      <td>0.052000</td>\n",
       "      <td>4358.500000</td>\n",
       "      <td>410.085</td>\n",
       "      <td>5.5</td>\n",
       "      <td>0</td>\n",
       "    </tr>\n",
       "    <tr>\n",
       "      <th>...</th>\n",
       "      <td>...</td>\n",
       "      <td>...</td>\n",
       "      <td>...</td>\n",
       "      <td>...</td>\n",
       "      <td>...</td>\n",
       "      <td>...</td>\n",
       "      <td>...</td>\n",
       "      <td>...</td>\n",
       "      <td>...</td>\n",
       "      <td>...</td>\n",
       "      <td>...</td>\n",
       "      <td>...</td>\n",
       "      <td>...</td>\n",
       "      <td>...</td>\n",
       "      <td>...</td>\n",
       "      <td>...</td>\n",
       "      <td>...</td>\n",
       "      <td>...</td>\n",
       "      <td>...</td>\n",
       "      <td>...</td>\n",
       "      <td>...</td>\n",
       "    </tr>\n",
       "    <tr>\n",
       "      <th>1372</th>\n",
       "      <td>-16.873760</td>\n",
       "      <td>303.448700</td>\n",
       "      <td>180.035357</td>\n",
       "      <td>0.500000</td>\n",
       "      <td>951.461538</td>\n",
       "      <td>1.000000</td>\n",
       "      <td>0.75</td>\n",
       "      <td>27.290000</td>\n",
       "      <td>0.000000</td>\n",
       "      <td>0.500000</td>\n",
       "      <td>...</td>\n",
       "      <td>23.305000</td>\n",
       "      <td>-72.166667</td>\n",
       "      <td>-323.262222</td>\n",
       "      <td>13.600000</td>\n",
       "      <td>0.000000</td>\n",
       "      <td>0.150000</td>\n",
       "      <td>1185.000000</td>\n",
       "      <td>410.090</td>\n",
       "      <td>6.5</td>\n",
       "      <td>0</td>\n",
       "    </tr>\n",
       "    <tr>\n",
       "      <th>1373</th>\n",
       "      <td>-13.696250</td>\n",
       "      <td>627.496222</td>\n",
       "      <td>171.974828</td>\n",
       "      <td>0.500000</td>\n",
       "      <td>951.500000</td>\n",
       "      <td>1.600000</td>\n",
       "      <td>0.00</td>\n",
       "      <td>27.290000</td>\n",
       "      <td>0.000000</td>\n",
       "      <td>0.333333</td>\n",
       "      <td>...</td>\n",
       "      <td>23.308000</td>\n",
       "      <td>-9.666667</td>\n",
       "      <td>-323.293333</td>\n",
       "      <td>17.700000</td>\n",
       "      <td>-261.210000</td>\n",
       "      <td>0.150000</td>\n",
       "      <td>14.500000</td>\n",
       "      <td>425.330</td>\n",
       "      <td>6.5</td>\n",
       "      <td>1</td>\n",
       "    </tr>\n",
       "    <tr>\n",
       "      <th>1374</th>\n",
       "      <td>-15.487385</td>\n",
       "      <td>56.574333</td>\n",
       "      <td>189.220345</td>\n",
       "      <td>0.533333</td>\n",
       "      <td>951.500000</td>\n",
       "      <td>1.750000</td>\n",
       "      <td>0.80</td>\n",
       "      <td>27.290000</td>\n",
       "      <td>0.000000</td>\n",
       "      <td>0.666667</td>\n",
       "      <td>...</td>\n",
       "      <td>23.305000</td>\n",
       "      <td>249.333333</td>\n",
       "      <td>-319.254444</td>\n",
       "      <td>24.181818</td>\n",
       "      <td>16.692333</td>\n",
       "      <td>0.150000</td>\n",
       "      <td>1742.500000</td>\n",
       "      <td>433.260</td>\n",
       "      <td>6.5</td>\n",
       "      <td>0</td>\n",
       "    </tr>\n",
       "    <tr>\n",
       "      <th>1375</th>\n",
       "      <td>-16.962231</td>\n",
       "      <td>-276.777900</td>\n",
       "      <td>169.227931</td>\n",
       "      <td>0.500000</td>\n",
       "      <td>951.500000</td>\n",
       "      <td>0.500000</td>\n",
       "      <td>0.00</td>\n",
       "      <td>27.290000</td>\n",
       "      <td>0.000000</td>\n",
       "      <td>0.500000</td>\n",
       "      <td>...</td>\n",
       "      <td>23.305000</td>\n",
       "      <td>304.222222</td>\n",
       "      <td>-320.037857</td>\n",
       "      <td>26.875000</td>\n",
       "      <td>418.206500</td>\n",
       "      <td>0.150000</td>\n",
       "      <td>4252.000000</td>\n",
       "      <td>450.395</td>\n",
       "      <td>6.5</td>\n",
       "      <td>0</td>\n",
       "    </tr>\n",
       "    <tr>\n",
       "      <th>1376</th>\n",
       "      <td>-14.012231</td>\n",
       "      <td>46.118455</td>\n",
       "      <td>174.061034</td>\n",
       "      <td>0.500000</td>\n",
       "      <td>951.538462</td>\n",
       "      <td>1.400000</td>\n",
       "      <td>0.80</td>\n",
       "      <td>27.290000</td>\n",
       "      <td>0.000000</td>\n",
       "      <td>0.500000</td>\n",
       "      <td>...</td>\n",
       "      <td>23.300000</td>\n",
       "      <td>262.500000</td>\n",
       "      <td>-323.282222</td>\n",
       "      <td>17.133333</td>\n",
       "      <td>0.000000</td>\n",
       "      <td>0.100000</td>\n",
       "      <td>3980.500000</td>\n",
       "      <td>468.295</td>\n",
       "      <td>6.5</td>\n",
       "      <td>0</td>\n",
       "    </tr>\n",
       "  </tbody>\n",
       "</table>\n",
       "<p>1377 rows × 23 columns</p>\n",
       "</div>"
      ],
      "text/plain": [
       "      Energy_Savings.Active_Power_Spindle  Energy_Savings.Active_Power_Z  \\\n",
       "0                                3.126359                      53.527900   \n",
       "1                                1.763218                    -223.576625   \n",
       "2                                1.398177                     382.341625   \n",
       "3                                1.065278                     700.204571   \n",
       "4                                0.225588                    -132.687143   \n",
       "...                                   ...                            ...   \n",
       "1372                           -16.873760                     303.448700   \n",
       "1373                           -13.696250                     627.496222   \n",
       "1374                           -15.487385                      56.574333   \n",
       "1375                           -16.962231                    -276.777900   \n",
       "1376                           -14.012231                      46.118455   \n",
       "\n",
       "      Main_Spindle.Actual_Position_MCS  Main_Spindle.Actual_Power  \\\n",
       "0                           179.816218                   0.500000   \n",
       "1                           184.350446                   0.507463   \n",
       "2                           181.430268                   0.500000   \n",
       "3                           177.692973                   0.492308   \n",
       "4                           175.616696                   0.508475   \n",
       "...                                ...                        ...   \n",
       "1372                        180.035357                   0.500000   \n",
       "1373                        171.974828                   0.500000   \n",
       "1374                        189.220345                   0.533333   \n",
       "1375                        169.227931                   0.500000   \n",
       "1376                        174.061034                   0.500000   \n",
       "\n",
       "      Main_Spindle.Actual_Speed_Rate  Main_Spindle.MPC_Peak  \\\n",
       "0                         317.379310               1.000000   \n",
       "1                         317.500000               0.666667   \n",
       "2                         317.300000               2.333333   \n",
       "3                         317.128205               1.666667   \n",
       "4                         317.062500               1.500000   \n",
       "...                              ...                    ...   \n",
       "1372                      951.461538               1.000000   \n",
       "1373                      951.500000               1.600000   \n",
       "1374                      951.500000               1.750000   \n",
       "1375                      951.500000               0.500000   \n",
       "1376                      951.538462               1.400000   \n",
       "\n",
       "      Main_Spindle.MPC_Veff_Total  Main_Spindle.Temperature_Spindle  \\\n",
       "0                            0.50                         28.105000   \n",
       "1                            0.50                         28.067143   \n",
       "2                            0.50                         28.067143   \n",
       "3                            1.00                         28.032857   \n",
       "4                            1.00                         28.000000   \n",
       "...                           ...                               ...   \n",
       "1372                         0.75                         27.290000   \n",
       "1373                         0.00                         27.290000   \n",
       "1374                         0.80                         27.290000   \n",
       "1375                         0.00                         27.290000   \n",
       "1376                         0.80                         27.290000   \n",
       "\n",
       "      Tool_Control_Center.Axial_Force_Tension  \\\n",
       "0                                    1.258537   \n",
       "1                                    0.674074   \n",
       "2                                    0.047826   \n",
       "3                                    0.050000   \n",
       "4                                    0.050000   \n",
       "...                                       ...   \n",
       "1372                                 0.000000   \n",
       "1373                                 0.000000   \n",
       "1374                                 0.000000   \n",
       "1375                                 0.000000   \n",
       "1376                                 0.000000   \n",
       "\n",
       "      Tool_Control_Center.Bending_Moment  ...  Y1_Axis.Temperature_Y_Slide  \\\n",
       "0                               2.500000  ...                    24.765000   \n",
       "1                               0.850000  ...                    24.766667   \n",
       "2                               0.478261  ...                    24.800000   \n",
       "3                               0.500000  ...                    24.800000   \n",
       "4                               0.529412  ...                    24.800000   \n",
       "...                                  ...  ...                          ...   \n",
       "1372                            0.500000  ...                    23.305000   \n",
       "1373                            0.333333  ...                    23.308000   \n",
       "1374                            0.666667  ...                    23.305000   \n",
       "1375                            0.500000  ...                    23.305000   \n",
       "1376                            0.500000  ...                    23.300000   \n",
       "\n",
       "      Z1_Axis.Actual_Feed_Rate  Z1_Axis.Actual_Position_MCS  \\\n",
       "0                   354.875000                  -304.447544   \n",
       "1                     8.800000                  -302.581802   \n",
       "2                  -156.000000                  -302.535946   \n",
       "3                    26.000000                  -303.418349   \n",
       "4                    67.909091                  -302.540270   \n",
       "...                        ...                          ...   \n",
       "1372                -72.166667                  -323.262222   \n",
       "1373                 -9.666667                  -323.293333   \n",
       "1374                249.333333                  -319.254444   \n",
       "1375                304.222222                  -320.037857   \n",
       "1376                262.500000                  -323.282222   \n",
       "\n",
       "      Z1_Axis.Actual_Power  Energy_Savings.Active_Power_X  \\\n",
       "0                13.739130                     416.853000   \n",
       "1                13.766667                     416.853000   \n",
       "2                12.562500                     -60.904000   \n",
       "3                17.350000                    -111.657000   \n",
       "4                16.608696                       4.060500   \n",
       "...                    ...                            ...   \n",
       "1372             13.600000                       0.000000   \n",
       "1373             17.700000                    -261.210000   \n",
       "1374             24.181818                      16.692333   \n",
       "1375             26.875000                     418.206500   \n",
       "1376             17.133333                       0.000000   \n",
       "\n",
       "      Tool_Control_Center.Axial_Force_Compression  X1_Axis.Actual_Feed_Rate  \\\n",
       "0                                        0.052632               1011.666667   \n",
       "1                                        0.052632               1011.666667   \n",
       "2                                        0.048148               3049.500000   \n",
       "3                                        0.054286                  0.000000   \n",
       "4                                        0.052000               4358.500000   \n",
       "...                                           ...                       ...   \n",
       "1372                                     0.150000               1185.000000   \n",
       "1373                                     0.150000                 14.500000   \n",
       "1374                                     0.150000               1742.500000   \n",
       "1375                                     0.150000               4252.000000   \n",
       "1376                                     0.100000               3980.500000   \n",
       "\n",
       "      X1_Axis.Actual_Position_MCS  A1_Axis.Actual_Power  Label  \n",
       "0                         367.525                   5.5      0  \n",
       "1                         367.525                   5.5      0  \n",
       "2                         384.030                   5.5      0  \n",
       "3                         397.960                   5.5      0  \n",
       "4                         410.085                   5.5      0  \n",
       "...                           ...                   ...    ...  \n",
       "1372                      410.090                   6.5      0  \n",
       "1373                      425.330                   6.5      1  \n",
       "1374                      433.260                   6.5      0  \n",
       "1375                      450.395                   6.5      0  \n",
       "1376                      468.295                   6.5      0  \n",
       "\n",
       "[1377 rows x 23 columns]"
      ]
     },
     "execution_count": 3,
     "metadata": {},
     "output_type": "execute_result"
    }
   ],
   "source": [
    "masterprojekt_daten"
   ]
  },
  {
   "cell_type": "code",
   "execution_count": 4,
   "metadata": {},
   "outputs": [],
   "source": [
    "x = masterprojekt_daten.drop(columns=['Label'])\n",
    "y = masterprojekt_daten['Label']"
   ]
  },
  {
   "cell_type": "code",
   "execution_count": 5,
   "metadata": {},
   "outputs": [
    {
     "data": {
      "text/plain": [
       "((1377, 22), (1377,))"
      ]
     },
     "execution_count": 5,
     "metadata": {},
     "output_type": "execute_result"
    }
   ],
   "source": [
    "x.shape, y.shape"
   ]
  },
  {
   "cell_type": "code",
   "execution_count": 6,
   "metadata": {},
   "outputs": [],
   "source": [
    "X_train, x_test, y_train, y_test = train_test_split(x, y, train_size=0.8, random_state=1432542)"
   ]
  },
  {
   "cell_type": "code",
   "execution_count": 7,
   "metadata": {},
   "outputs": [
    {
     "name": "stderr",
     "output_type": "stream",
     "text": [
      "[Parallel(n_jobs=1)]: Using backend SequentialBackend with 1 concurrent workers.\n",
      "[Parallel(n_jobs=1)]: Done   1 out of   1 | elapsed:    1.4s finished\n"
     ]
    },
    {
     "data": {
      "text/plain": [
       "0.8628519527702089"
      ]
     },
     "execution_count": 7,
     "metadata": {},
     "output_type": "execute_result"
    }
   ],
   "source": [
    "correlation = masterprojekt_daten.corr()\n",
    "from sklearn.linear_model import LogisticRegression\n",
    "regressor = LogisticRegression(random_state=0, solver='lbfgs', max_iter=15000, multi_class='multinomial', C=0.3, verbose=1)\n",
    "regressor.fit(X_train, y_train)\n",
    "regressor.score(X_train, y_train)"
   ]
  },
  {
   "cell_type": "code",
   "execution_count": 8,
   "metadata": {},
   "outputs": [],
   "source": [
    "y_pred = regressor.predict(x_test)\n",
    "y_probs = regressor.predict_proba(x_test)"
   ]
  },
  {
   "cell_type": "code",
   "execution_count": 9,
   "metadata": {},
   "outputs": [
    {
     "name": "stderr",
     "output_type": "stream",
     "text": [
      "C:\\Users\\MLDigitalLab\\AppData\\Roaming\\Python\\Python37\\site-packages\\sklearn\\model_selection\\_split.py:1978: FutureWarning: The default value of cv will change from 3 to 5 in version 0.22. Specify it explicitly to silence this warning.\n",
      "  warnings.warn(CV_WARNING, FutureWarning)\n",
      "[Parallel(n_jobs=1)]: Using backend SequentialBackend with 1 concurrent workers.\n",
      "[Parallel(n_jobs=1)]: Using backend SequentialBackend with 1 concurrent workers.\n"
     ]
    },
    {
     "name": "stdout",
     "output_type": "stream",
     "text": [
      "[CV]  ................................................................\n"
     ]
    },
    {
     "name": "stderr",
     "output_type": "stream",
     "text": [
      "[Parallel(n_jobs=1)]: Done   1 out of   1 | elapsed:    2.0s finished\n",
      "[Parallel(n_jobs=1)]: Done   1 out of   1 | elapsed:    2.1s remaining:    0.0s\n",
      "[Parallel(n_jobs=1)]: Using backend SequentialBackend with 1 concurrent workers.\n"
     ]
    },
    {
     "name": "stdout",
     "output_type": "stream",
     "text": [
      "[CV] .................................... , score=0.822, total=   2.2s\n",
      "[CV]  ................................................................\n"
     ]
    },
    {
     "name": "stderr",
     "output_type": "stream",
     "text": [
      "[Parallel(n_jobs=1)]: Done   1 out of   1 | elapsed:    2.2s finished\n",
      "[Parallel(n_jobs=1)]: Done   2 out of   2 | elapsed:    4.4s remaining:    0.0s\n",
      "[Parallel(n_jobs=1)]: Using backend SequentialBackend with 1 concurrent workers.\n"
     ]
    },
    {
     "name": "stdout",
     "output_type": "stream",
     "text": [
      "[CV] .................................... , score=0.455, total=   2.3s\n",
      "[CV]  ................................................................\n",
      "[CV] .................................... , score=0.686, total=   1.2s\n",
      "Cross validation of the Data set:  [0.82173913 0.45533769 0.68558952]\n",
      "Accuracy: 0.8478260869565217\n",
      "Precision: 0.47619047619047616\n",
      "Recall: 0.5\n"
     ]
    },
    {
     "name": "stderr",
     "output_type": "stream",
     "text": [
      "[Parallel(n_jobs=1)]: Done   1 out of   1 | elapsed:    1.1s finished\n",
      "[Parallel(n_jobs=1)]: Done   3 out of   3 | elapsed:    5.6s finished\n"
     ]
    }
   ],
   "source": [
    "print('Cross validation of the Data set: ', cross_val_score(regressor, x, y, verbose=3))\n",
    "print(\"Accuracy:\", accuracy_score(y_test, y_pred))\n",
    "print(\"Precision:\", precision_score(y_test, y_pred))\n",
    "print(\"Recall:\", recall_score(y_test, y_pred))"
   ]
  },
  {
   "cell_type": "code",
   "execution_count": 10,
   "metadata": {},
   "outputs": [
    {
     "data": {
      "image/png": "[encoded data removed]",
      "text/plain": [
       "<Figure size 432x288 with 1 Axes>"
      ]
     },
     "metadata": {
      "needs_background": "light"
     },
     "output_type": "display_data"
    }
   ],
   "source": [
    "probabilities = y_probs[:,1]\n",
    "\n",
    "fpr, tpr, thresholds = roc_curve(y_test, probabilities)\n",
    "roc_auc = auc(fpr, tpr)\n",
    "\n",
    "plt.title('Receiver Operating Characteristic')\n",
    "plt.plot(fpr, tpr, 'y', label = 'AUC = %0.2f' % roc_auc)\n",
    "plt.legend(loc = 'lower right')\n",
    "plt.plot([0, 1], [0, 1],'r--')\n",
    "plt.xlim([0, 1])\n",
    "plt.ylim([0, 1])\n",
    "plt.ylabel('True Positive Rate')\n",
    "plt.xlabel('False Positive Rate')\n",
    "plt.show()"
   ]
  },
  {
   "cell_type": "code",
   "execution_count": 11,
   "metadata": {},
   "outputs": [
    {
     "data": {
      "text/plain": [
       "Text(0.5, 1.0, '2-class Precision-Recall curve: AP=0.31')"
      ]
     },
     "execution_count": 11,
     "metadata": {},
     "output_type": "execute_result"
    },
    {
     "data": {
      "image/png": "[encoded data removed]",
      "text/plain": [
       "<Figure size 432x288 with 1 Axes>"
      ]
     },
     "metadata": {
      "needs_background": "light"
     },
     "output_type": "display_data"
    }
   ],
   "source": [
    "precision, recall, threshold = precision_recall_curve(y_test, y_pred)\n",
    "average_precision = average_precision_score(y_test, y_pred)\n",
    "step_kwargs = ({'step': 'post'} if 'step' in signature(plt.fill_between).parameters else {})\n",
    "plt.step(recall, precision, color='r', alpha=0.2, where='post')\n",
    "plt.fill_between(recall, precision, alpha=0.2, color='r', **step_kwargs)\n",
    "plt.xlabel('Recall')\n",
    "plt.ylabel('Precision')\n",
    "plt.ylim([0.0, 1.0])\n",
    "plt.xlim([0.0, 1.0])\n",
    "plt.title('2-class Precision-Recall curve: AP={0:0.2f}'.format(average_precision))"
   ]
  },
  {
   "cell_type": "code",
   "execution_count": 12,
   "metadata": {},
   "outputs": [
    {
     "data": {
      "text/plain": [
       "[Text(0, 0.5, 'i.O.'), Text(0, 1.5, 'n.I.O.')]"
      ]
     },
     "execution_count": 12,
     "metadata": {},
     "output_type": "execute_result"
    },
    {
     "data": {
      "image/png": "[encoded data removed]",
      "text/plain": [
       "<Figure size 432x288 with 2 Axes>"
      ]
     },
     "metadata": {
      "needs_background": "light"
     },
     "output_type": "display_data"
    }
   ],
   "source": [
    "import sklearn\n",
    "matrix = confusion_matrix(y_test, y_pred)\n",
    "class_names = masterprojekt_daten.columns\n",
    "ax = plt.subplot()\n",
    "\n",
    "# plt.figure(figsize = (10,7))\n",
    "sns.heatmap(matrix, annot=True, fmt='d', ax = ax, annot_kws={\"size\": 16})\n",
    "ax.set_xlabel('Predicted labels')\n",
    "ax.set_ylabel('True labels')\n",
    "ax.set_title('Confusion Matrix');\n",
    "ax.xaxis.set_ticklabels(['i.O.', 'n.I.O.']); ax.yaxis.set_ticklabels(['i.O.', 'n.I.O.'])\n",
    "#ax.yaxis.set_major_locator(ticker.IndexLocator(base=1, offset=0.5))"
   ]
  },
  {
   "cell_type": "code",
   "execution_count": 13,
   "metadata": {},
   "outputs": [
    {
     "data": {
      "text/plain": [
       "<matplotlib.collections.PathCollection at 0x23a37597708>"
      ]
     },
     "execution_count": 13,
     "metadata": {},
     "output_type": "execute_result"
    },
    {
     "data": {
      "image/png": "[encoded data removed]",
      "text/plain": [
       "<Figure size 432x288 with 1 Axes>"
      ]
     },
     "metadata": {
      "needs_background": "light"
     },
     "output_type": "display_data"
    }
   ],
   "source": [
    "# loss = expit(x_test * regressor.coef_ + regressor.intercept_).ravel()\n",
    "# plt.plot(x_test, loss, color='red', linewidth=3)\n",
    "\n",
    "df_example = pd.DataFrame({'x': x_test.iloc[:,0], 'y': y_test})\n",
    "df_example = df_example.sort_values(by='x')\n",
    "from scipy.special import expit\n",
    "sigmoid_function = expit(df_example['x'] * regressor.coef_[0][0] + regressor.intercept_[0]).ravel()\n",
    "plt.plot(df_example['x'], sigmoid_function)\n",
    "plt.scatter(df_example['x'], df_example['y'], c=df_example['y'], cmap='rainbow', edgecolors='b')"
   ]
  }
 ],
 "metadata": {
  "kernelspec": {
   "display_name": "Python 3",
   "language": "python",
   "name": "python3"
  },
  "language_info": {
   "codemirror_mode": {
    "name": "ipython",
    "version": 3
   },
   "file_extension": ".py",
   "mimetype": "text/x-python",
   "name": "python",
   "nbconvert_exporter": "python",
   "pygments_lexer": "ipython3",
   "version": "3.7.5"
  }
 },
 "nbformat": 4,
 "nbformat_minor": 2
}
