{
 "cells": [
  {
   "cell_type": "code",
   "execution_count": 1,
   "metadata": {},
   "outputs": [],
   "source": [
    "import os\n",
    "import matplotlib.pyplot as plt\n",
    "import matplotlib.dates as mdates\n",
    "import pandas as pd\n",
    "import numpy as np\n",
    "import datetime\n",
    "import statistics"
   ]
  },
  {
   "cell_type": "code",
   "execution_count": 2,
   "metadata": {},
   "outputs": [],
   "source": [
    "reib_daten = pd.read_csv('data_2019-26-11_REIB.csv')\n",
    "achsleistung_daten = pd.read_csv('../Achsleistungen _ Messprotokolle/Ebene 1/Achsleistung-2019-11-20T10-27-03.csv', delimiter=';')\n",
    "messprotokoll_daten = pd.read_csv('../Achsleistungen _ Messprotokolle/Ebene 1/MEAS_PROTOCOL_CSV.CSV', delimiter=';')\n",
    "messergebnisse_daten = pd.read_csv('../Messergebnisse Reiben/Messergebnisse.csv', skiprows=7, delimiter=';')\n",
    "messergebnisseme_daten = pd.read_csv('../Messergebnisse Reiben/MessergebnisseME01.csv', delimiter=';')\n",
    "achsleistung_columns = ['Timestamp', 'X1', 'Y1', 'Z1', 'SPI1']\n",
    "messergebnisse_columns = ['Messwert Innenmessschraube', 'Messwert Messtaster', 'Klassifizierung nach Messtaster', 'Klassifizierung nach Messtaster', 'Klassifizierung nach Grenzlehrdorn']\n",
    "achsleistung_daten = achsleistung_daten[achsleistung_columns]\n",
    "messergebnisse_daten = messergebnisse_daten[messergebnisse_columns]\n",
    "\n",
    "\n",
    "achsleistung_daten = achsleistung_daten.dropna()\n",
    "messprotokoll_daten = messprotokoll_daten.dropna()\n",
    "messergebnisse_daten = messergebnisse_daten.dropna()\n",
    "\n",
    "#achsleistung_daten\n",
    "#reib_daten\n",
    "#messprotokoll_daten\n",
    "#messergebnisse_daten\n",
    "#messprotokoll_daten"
   ]
  },
  {
   "cell_type": "code",
   "execution_count": 17,
   "metadata": {},
   "outputs": [
    {
     "name": "stdout",
     "output_type": "stream",
     "text": [
      "           Date      Time                           Program   Workpiece no.  \\\n",
      "0    2019-11-20  12:14:13                        REIBEN.MPF                   \n",
      "1    2019-11-20  12:14:13                        REIBEN.MPF                   \n",
      "2    2019-11-20  12:14:13                        REIBEN.MPF                   \n",
      "3    2019-11-20  12:14:18                        REIBEN.MPF                   \n",
      "4    2019-11-20  12:14:18                        REIBEN.MPF                   \n",
      "..          ...       ...                               ...             ...   \n",
      "238  2019-11-20  12:21:06                        REIBEN.MPF                   \n",
      "239  2019-11-20  12:21:06                        REIBEN.MPF                   \n",
      "240  2019-11-20  12:21:10                        REIBEN.MPF                   \n",
      "241  2019-11-20  12:21:10                        REIBEN.MPF                   \n",
      "242  2019-11-20  12:21:10                        REIBEN.MPF                   \n",
      "\n",
      "          Testpoint  Plane       Probe no.           Cycle          S_MVAR  \\\n",
      "0                 1    G17               1             977               1   \n",
      "1                 1    G17               1             977               1   \n",
      "2                 1    G17               1             977               1   \n",
      "3                 1    G17               1             977               1   \n",
      "4                 1    G17               1             977               1   \n",
      "..              ...    ...             ...             ...             ...   \n",
      "238               1    G17               1             977               1   \n",
      "239               1    G17               1             977               1   \n",
      "240               1    G17               1             977               1   \n",
      "241               1    G17               1             977               1   \n",
      "242               1    G17               1             977               1   \n",
      "\n",
      "                    Measuring variant  Results:            Setpoint  \\\n",
      "0                              1 Hole  X                     15,000   \n",
      "1                              1 Hole  Y                     15,000   \n",
      "2                              1 Hole  Diameter              12,009   \n",
      "3                              1 Hole  X                     30,000   \n",
      "4                              1 Hole  Y                     15,000   \n",
      "..                                ...           ...             ...   \n",
      "238                            1 Hole  Y                    135,000   \n",
      "239                            1 Hole  Diameter              12,009   \n",
      "240                            1 Hole  X                    135,000   \n",
      "241                            1 Hole  Y                    135,000   \n",
      "242                            1 Hole  Diameter              12,009   \n",
      "\n",
      "           Measured      Difference Unit  \n",
      "0            14,976          -0,024   mm  \n",
      "1            15,016           0,016   mm  \n",
      "2            12,019           0,010   mm  \n",
      "3            29,994          -0,006   mm  \n",
      "4            14,986          -0,014   mm  \n",
      "..              ...             ...  ...  \n",
      "238         135,001           0,000   mm  \n",
      "239          12,018           0,009   mm  \n",
      "240         134,987          -0,013   mm  \n",
      "241         135,012           0,012   mm  \n",
      "242          12,018           0,009   mm  \n",
      "\n",
      "[243 rows x 15 columns]\n"
     ]
    }
   ],
   "source": [
    "# def createDataFrame(number, data):\n",
    "#     number = pd.DataFrame(data)\n",
    "#     return number\n",
    "\n",
    "\n",
    "# for index in range(len(messergebnisse_daten)):\n",
    "#     for key, value in messergebnisse_daten.items():\n",
    "#         temp = []\n",
    "#         temp.append(value)\n",
    "#         if (index % 81) == 0:\n",
    "#             number = index % 81\n",
    "#             createDataFrame(number, )\n",
    "#             new_df.append(temp)\n",
    "#             #print(new_df.head())"
   ]
  },
  {
   "cell_type": "code",
   "execution_count": 4,
   "metadata": {},
   "outputs": [
    {
     "name": "stdout",
     "output_type": "stream",
     "text": [
      "      Date\n",
      "    Time\n",
      "                         Program\n",
      " Workpiece no.\n",
      "     Testpoint\n"
     ]
    },
    {
     "ename": "AttributeError",
     "evalue": "Can only use .str accessor with string values!",
     "output_type": "error",
     "traceback": [
      "\u001b[1;31m---------------------------------------------------------------------------\u001b[0m",
      "\u001b[1;31mAttributeError\u001b[0m                            Traceback (most recent call last)",
      "\u001b[1;32m<ipython-input-4-6909c6b3de98>\u001b[0m in \u001b[0;36m<module>\u001b[1;34m\u001b[0m\n\u001b[0;32m      5\u001b[0m     \u001b[0mdiameter\u001b[0m \u001b[1;33m=\u001b[0m \u001b[1;33m[\u001b[0m\u001b[1;33m]\u001b[0m\u001b[1;33m\u001b[0m\u001b[1;33m\u001b[0m\u001b[0m\n\u001b[0;32m      6\u001b[0m     \u001b[0mprint\u001b[0m\u001b[1;33m(\u001b[0m\u001b[0mkey\u001b[0m\u001b[1;33m)\u001b[0m\u001b[1;33m\u001b[0m\u001b[1;33m\u001b[0m\u001b[0m\n\u001b[1;32m----> 7\u001b[1;33m     \u001b[1;32mif\u001b[0m \u001b[0mmessprotokoll_daten\u001b[0m\u001b[1;33m[\u001b[0m\u001b[0mkey\u001b[0m\u001b[1;33m]\u001b[0m\u001b[1;33m.\u001b[0m\u001b[0mstr\u001b[0m \u001b[1;33m==\u001b[0m \u001b[1;34m'Measured'\u001b[0m\u001b[1;33m:\u001b[0m\u001b[1;33m\u001b[0m\u001b[1;33m\u001b[0m\u001b[0m\n\u001b[0m\u001b[0;32m      8\u001b[0m         \u001b[1;32mfor\u001b[0m \u001b[0mi\u001b[0m \u001b[1;32min\u001b[0m \u001b[0mrange\u001b[0m\u001b[1;33m(\u001b[0m\u001b[1;36m3\u001b[0m\u001b[1;33m)\u001b[0m\u001b[1;33m:\u001b[0m\u001b[1;33m\u001b[0m\u001b[1;33m\u001b[0m\u001b[0m\n\u001b[0;32m      9\u001b[0m             \u001b[0mmeasured\u001b[0m\u001b[1;33m.\u001b[0m\u001b[0mappend\u001b[0m\u001b[1;33m(\u001b[0m\u001b[0mvalue\u001b[0m\u001b[1;33m[\u001b[0m\u001b[0mi\u001b[0m\u001b[1;33m]\u001b[0m\u001b[1;33m)\u001b[0m\u001b[1;33m\u001b[0m\u001b[1;33m\u001b[0m\u001b[0m\n",
      "\u001b[1;32m~\\AppData\\Roaming\\Python\\Python37\\site-packages\\pandas\\core\\generic.py\u001b[0m in \u001b[0;36m__getattr__\u001b[1;34m(self, name)\u001b[0m\n\u001b[0;32m   5173\u001b[0m             \u001b[1;32mor\u001b[0m \u001b[0mname\u001b[0m \u001b[1;32min\u001b[0m \u001b[0mself\u001b[0m\u001b[1;33m.\u001b[0m\u001b[0m_accessors\u001b[0m\u001b[1;33m\u001b[0m\u001b[1;33m\u001b[0m\u001b[0m\n\u001b[0;32m   5174\u001b[0m         ):\n\u001b[1;32m-> 5175\u001b[1;33m             \u001b[1;32mreturn\u001b[0m \u001b[0mobject\u001b[0m\u001b[1;33m.\u001b[0m\u001b[0m__getattribute__\u001b[0m\u001b[1;33m(\u001b[0m\u001b[0mself\u001b[0m\u001b[1;33m,\u001b[0m \u001b[0mname\u001b[0m\u001b[1;33m)\u001b[0m\u001b[1;33m\u001b[0m\u001b[1;33m\u001b[0m\u001b[0m\n\u001b[0m\u001b[0;32m   5176\u001b[0m         \u001b[1;32melse\u001b[0m\u001b[1;33m:\u001b[0m\u001b[1;33m\u001b[0m\u001b[1;33m\u001b[0m\u001b[0m\n\u001b[0;32m   5177\u001b[0m             \u001b[1;32mif\u001b[0m \u001b[0mself\u001b[0m\u001b[1;33m.\u001b[0m\u001b[0m_info_axis\u001b[0m\u001b[1;33m.\u001b[0m\u001b[0m_can_hold_identifiers_and_holds_name\u001b[0m\u001b[1;33m(\u001b[0m\u001b[0mname\u001b[0m\u001b[1;33m)\u001b[0m\u001b[1;33m:\u001b[0m\u001b[1;33m\u001b[0m\u001b[1;33m\u001b[0m\u001b[0m\n",
      "\u001b[1;32m~\\AppData\\Roaming\\Python\\Python37\\site-packages\\pandas\\core\\accessor.py\u001b[0m in \u001b[0;36m__get__\u001b[1;34m(self, obj, cls)\u001b[0m\n\u001b[0;32m    173\u001b[0m             \u001b[1;31m# we're accessing the attribute of the class, i.e., Dataset.geo\u001b[0m\u001b[1;33m\u001b[0m\u001b[1;33m\u001b[0m\u001b[1;33m\u001b[0m\u001b[0m\n\u001b[0;32m    174\u001b[0m             \u001b[1;32mreturn\u001b[0m \u001b[0mself\u001b[0m\u001b[1;33m.\u001b[0m\u001b[0m_accessor\u001b[0m\u001b[1;33m\u001b[0m\u001b[1;33m\u001b[0m\u001b[0m\n\u001b[1;32m--> 175\u001b[1;33m         \u001b[0maccessor_obj\u001b[0m \u001b[1;33m=\u001b[0m \u001b[0mself\u001b[0m\u001b[1;33m.\u001b[0m\u001b[0m_accessor\u001b[0m\u001b[1;33m(\u001b[0m\u001b[0mobj\u001b[0m\u001b[1;33m)\u001b[0m\u001b[1;33m\u001b[0m\u001b[1;33m\u001b[0m\u001b[0m\n\u001b[0m\u001b[0;32m    176\u001b[0m         \u001b[1;31m# Replace the property with the accessor object. Inspired by:\u001b[0m\u001b[1;33m\u001b[0m\u001b[1;33m\u001b[0m\u001b[1;33m\u001b[0m\u001b[0m\n\u001b[0;32m    177\u001b[0m         \u001b[1;31m# http://www.pydanny.com/cached-property.html\u001b[0m\u001b[1;33m\u001b[0m\u001b[1;33m\u001b[0m\u001b[1;33m\u001b[0m\u001b[0m\n",
      "\u001b[1;32m~\\AppData\\Roaming\\Python\\Python37\\site-packages\\pandas\\core\\strings.py\u001b[0m in \u001b[0;36m__init__\u001b[1;34m(self, data)\u001b[0m\n\u001b[0;32m   1915\u001b[0m \u001b[1;33m\u001b[0m\u001b[0m\n\u001b[0;32m   1916\u001b[0m     \u001b[1;32mdef\u001b[0m \u001b[0m__init__\u001b[0m\u001b[1;33m(\u001b[0m\u001b[0mself\u001b[0m\u001b[1;33m,\u001b[0m \u001b[0mdata\u001b[0m\u001b[1;33m)\u001b[0m\u001b[1;33m:\u001b[0m\u001b[1;33m\u001b[0m\u001b[1;33m\u001b[0m\u001b[0m\n\u001b[1;32m-> 1917\u001b[1;33m         \u001b[0mself\u001b[0m\u001b[1;33m.\u001b[0m\u001b[0m_inferred_dtype\u001b[0m \u001b[1;33m=\u001b[0m \u001b[0mself\u001b[0m\u001b[1;33m.\u001b[0m\u001b[0m_validate\u001b[0m\u001b[1;33m(\u001b[0m\u001b[0mdata\u001b[0m\u001b[1;33m)\u001b[0m\u001b[1;33m\u001b[0m\u001b[1;33m\u001b[0m\u001b[0m\n\u001b[0m\u001b[0;32m   1918\u001b[0m         \u001b[0mself\u001b[0m\u001b[1;33m.\u001b[0m\u001b[0m_is_categorical\u001b[0m \u001b[1;33m=\u001b[0m \u001b[0mis_categorical_dtype\u001b[0m\u001b[1;33m(\u001b[0m\u001b[0mdata\u001b[0m\u001b[1;33m)\u001b[0m\u001b[1;33m\u001b[0m\u001b[1;33m\u001b[0m\u001b[0m\n\u001b[0;32m   1919\u001b[0m \u001b[1;33m\u001b[0m\u001b[0m\n",
      "\u001b[1;32m~\\AppData\\Roaming\\Python\\Python37\\site-packages\\pandas\\core\\strings.py\u001b[0m in \u001b[0;36m_validate\u001b[1;34m(data)\u001b[0m\n\u001b[0;32m   1965\u001b[0m \u001b[1;33m\u001b[0m\u001b[0m\n\u001b[0;32m   1966\u001b[0m         \u001b[1;32mif\u001b[0m \u001b[0minferred_dtype\u001b[0m \u001b[1;32mnot\u001b[0m \u001b[1;32min\u001b[0m \u001b[0mallowed_types\u001b[0m\u001b[1;33m:\u001b[0m\u001b[1;33m\u001b[0m\u001b[1;33m\u001b[0m\u001b[0m\n\u001b[1;32m-> 1967\u001b[1;33m             \u001b[1;32mraise\u001b[0m \u001b[0mAttributeError\u001b[0m\u001b[1;33m(\u001b[0m\u001b[1;34m\"Can only use .str accessor with string \"\u001b[0m \u001b[1;34m\"values!\"\u001b[0m\u001b[1;33m)\u001b[0m\u001b[1;33m\u001b[0m\u001b[1;33m\u001b[0m\u001b[0m\n\u001b[0m\u001b[0;32m   1968\u001b[0m         \u001b[1;32mreturn\u001b[0m \u001b[0minferred_dtype\u001b[0m\u001b[1;33m\u001b[0m\u001b[1;33m\u001b[0m\u001b[0m\n\u001b[0;32m   1969\u001b[0m \u001b[1;33m\u001b[0m\u001b[0m\n",
      "\u001b[1;31mAttributeError\u001b[0m: Can only use .str accessor with string values!"
     ]
    }
   ],
   "source": [
    "# messergebnisse_daten.head(), messprotokoll_daten.head()\n",
    "messprotokoll_condensed_median = pd.DataFrame()\n",
    "for key, value in messprotokoll_daten.iteritems():\n",
    "    measured = []\n",
    "    diameter = []\n",
    "    print(key)\n",
    "    if messprotokoll_daten[key].str == 'Measured':\n",
    "        for i in range(3):\n",
    "            measured.append(value[i])\n",
    "            print(value)\n",
    "    elif key == 'Difference':\n",
    "        for key in range(3):\n",
    "            measured.append(messprotokoll_daten[key].value)\n",
    "    \n",
    "    #median = statistics.median(temp)\n",
    "    #messprotokoll_condensed_median.append()\n",
    "\n",
    "\n",
    "\n",
    "merge_csv_erg_prot = messergebnisse_daten[:81].merge(messprotokoll_daten, right_index=True , left_index=True)\n",
    "\n",
    "#merge_csv_erg_prot"
   ]
  },
  {
   "cell_type": "code",
   "execution_count": null,
   "metadata": {},
   "outputs": [],
   "source": []
  }
 ],
 "metadata": {
  "kernelspec": {
   "display_name": "Python 3",
   "language": "python",
   "name": "python3"
  },
  "language_info": {
   "codemirror_mode": {
    "name": "ipython",
    "version": 3
   },
   "file_extension": ".py",
   "mimetype": "text/x-python",
   "name": "python",
   "nbconvert_exporter": "python",
   "pygments_lexer": "ipython3",
   "version": "3.7.5"
  }
 },
 "nbformat": 4,
 "nbformat_minor": 2
}
