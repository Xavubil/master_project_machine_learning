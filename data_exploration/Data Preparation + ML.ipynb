{
 "cells": [
  {
   "cell_type": "code",
   "execution_count": 1,
   "metadata": {},
   "outputs": [],
   "source": [
    "import os\n",
    "import matplotlib.pyplot as plt\n",
    "import matplotlib.dates as mdates\n",
    "import pandas as pd\n",
    "import numpy as np\n",
    "import datetime\n",
    "import statistics"
   ]
  },
  {
   "cell_type": "code",
   "execution_count": 2,
   "metadata": {},
   "outputs": [],
   "source": [
    "reib_daten = pd.read_csv('data_2019-26-11_REIB.csv')\n",
    "achsleistung_daten = pd.read_csv('../Achsleistungen _ Messprotokolle/Ebene 1/Achsleistung-2019-11-20T10-27-03.csv', delimiter=';')\n",
    "messprotokoll_daten = pd.read_csv('../Achsleistungen _ Messprotokolle/Ebene 1/MEAS_PROTOCOL_CSV.CSV', delimiter=';')\n",
    "messergebnisse_daten = pd.read_csv('../Messergebnisse Reiben/Messergebnisse.csv', skiprows=7, delimiter=';')\n",
    "#messergebnisseme_daten = pd.read_csv('../Messergebnisse Reiben/MessergebnisseME01.csv', delimiter=';')\n",
    "achsleistung_columns = ['Timestamp', 'X1', 'Y1', 'Z1', 'SPI1']\n",
    "messergebnisse_columns = ['Messwert Innenmessschraube', 'Messwert Messtaster', 'Klassifizierung nach Messtaster', 'Klassifizierung nach Messtaster', 'Klassifizierung nach Grenzlehrdorn']\n",
    "achsleistung_daten = achsleistung_daten[achsleistung_columns]\n",
    "messergebnisse_daten = messergebnisse_daten[messergebnisse_columns]\n",
    "\n",
    "\n",
    "achsleistung_daten = achsleistung_daten.dropna()\n",
    "messprotokoll_daten = messprotokoll_daten.dropna()\n",
    "messergebnisse_daten = messergebnisse_daten.dropna()\n",
    "\n",
    "#achsleistung_daten\n",
    "#reib_daten\n",
    "#messprotokoll_daten\n",
    "#messergebnisse_daten\n",
    "#messprotokoll_daten"
   ]
  },
  {
   "cell_type": "code",
   "execution_count": null,
   "metadata": {},
   "outputs": [],
   "source": [
    "# def createDataFrame(number, data):\n",
    "#     number = pd.DataFrame(data)\n",
    "#     return number\n",
    "\n",
    "\n",
    "# for index in range(len(messergebnisse_daten)):\n",
    "#     for key, value in messergebnisse_daten.items():\n",
    "#         temp = []\n",
    "#         temp.append(value)\n",
    "#         if (index % 81) == 0:\n",
    "#             number = index % 81\n",
    "#             createDataFrame(number, )\n",
    "#             new_df.append(temp)\n",
    "#             #print(new_df.head())"
   ]
  },
  {
   "cell_type": "code",
   "execution_count": 5,
   "metadata": {},
   "outputs": [
    {
     "name": "stdout",
     "output_type": "stream",
     "text": [
      "Das kann kein Messprotokoll sein!\n",
      "Das kann kein Messprotokoll sein!\n",
      "Das kann kein Messprotokoll sein!\n",
      "Das kann kein Messprotokoll sein!\n",
      "Das kann kein Messprotokoll sein!\n",
      "Das kann kein Messprotokoll sein!\n",
      "Das kann kein Messprotokoll sein!\n",
      "Das kann kein Messprotokoll sein!\n",
      "Das kann kein Messprotokoll sein!\n",
      "Das kann kein Messprotokoll sein!\n",
      "Das kann kein Messprotokoll sein!\n",
      "Das kann kein Messprotokoll sein!\n",
      "Das kann kein Messprotokoll sein!\n",
      "Das kann kein Messprotokoll sein!\n",
      "Das kann kein Messprotokoll sein!\n"
     ]
    }
   ],
   "source": [
    "# messergebnisse_daten.head(), messprotokoll_daten.head()\n",
    "messprotokoll_condensed_median = pd.DataFrame()\n",
    "for key, value in messprotokoll_daten.iteritems():\n",
    "    measured = []\n",
    "    diameter = []\n",
    "    #print(key)\n",
    "    if key == 'Measured':\n",
    "        for i in range(3):\n",
    "            measured.append(value[i])\n",
    "            print(value)\n",
    "    elif key == 'Difference':\n",
    "        for key in range(3):\n",
    "            measured.append(messprotokoll_daten[key].value)\n",
    "    \n",
    "    else:\n",
    "        print('Das kann kein Messprotokoll sein!')\n",
    "    \n",
    "    #median = statistics.median(temp)\n",
    "    #messprotokoll_condensed_median.append()\n",
    "\n",
    "\n",
    "\n",
    "merge_csv_erg_prot = messergebnisse_daten[:81].merge(messprotokoll_daten, right_index=True , left_index=True)\n",
    "\n",
    "#merge_csv_erg_prot"
   ]
  },
  {
   "cell_type": "code",
   "execution_count": null,
   "metadata": {},
   "outputs": [],
   "source": []
  }
 ],
 "metadata": {
  "kernelspec": {
   "display_name": "Python 3",
   "language": "python",
   "name": "python3"
  },
  "language_info": {
   "codemirror_mode": {
    "name": "ipython",
    "version": 3
   },
   "file_extension": ".py",
   "mimetype": "text/x-python",
   "name": "python",
   "nbconvert_exporter": "python",
   "pygments_lexer": "ipython3",
   "version": "3.7.5"
  }
 },
 "nbformat": 4,
 "nbformat_minor": 2
}
